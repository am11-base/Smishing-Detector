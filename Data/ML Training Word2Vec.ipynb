{
 "cells": [
  {
   "cell_type": "code",
   "execution_count": 16,
   "id": "9bb73e0b",
   "metadata": {},
   "outputs": [],
   "source": [
    "import gensim\n",
    "from gensim.models import word2vec\n",
    "from gensim.models.word2vec import Word2Vec\n",
    "import pandas as pd\n",
    "import numpy as np\n",
    "import gensim.downloader as api"
   ]
  },
  {
   "cell_type": "code",
   "execution_count": 17,
   "id": "b7cdd417",
   "metadata": {},
   "outputs": [],
   "source": [
    "wv=api.load('glove-twitter-50')"
   ]
  },
  {
   "cell_type": "code",
   "execution_count": 18,
   "id": "5567c4d7",
   "metadata": {},
   "outputs": [],
   "source": [
    "wv.save(\"vectors.kv\")"
   ]
  },
  {
   "cell_type": "code",
   "execution_count": 19,
   "id": "812ad16c",
   "metadata": {},
   "outputs": [
    {
     "data": {
      "text/plain": [
       "array([ 5.1418e-01, -1.9196e-01, -7.9963e-01,  9.1339e-01, -5.7061e-01,\n",
       "        7.1746e-01, -5.8979e-01, -5.1530e-01,  1.3453e+00, -2.0792e-01,\n",
       "        4.4555e-01,  2.4981e-01, -3.2020e+00,  3.5736e-01, -2.3593e-02,\n",
       "       -3.1158e-02,  3.7782e-01,  6.4447e-01,  1.2056e+00, -1.0553e-01,\n",
       "       -8.9697e-01, -7.9754e-01,  2.0239e-01, -1.0664e+00, -4.7167e-01,\n",
       "       -2.5953e-01,  1.1328e-01, -3.8142e-01,  2.0366e-03, -5.0261e-01,\n",
       "       -2.5197e-01, -8.4033e-02, -1.0015e+00, -8.6835e-01,  6.6201e-01,\n",
       "        2.6496e-01,  2.2570e-01, -3.3847e-01, -3.4739e-01,  6.2199e-01,\n",
       "       -1.3491e+00, -1.7497e-01, -1.1490e+00,  1.5144e-01,  1.1255e+00,\n",
       "       -6.2668e-01, -3.4274e-01, -3.4938e-01, -1.0806e+00,  6.0174e-01],\n",
       "      dtype=float32)"
      ]
     },
     "execution_count": 19,
     "metadata": {},
     "output_type": "execute_result"
    }
   ],
   "source": [
    "wv['apple']"
   ]
  },
  {
   "cell_type": "code",
   "execution_count": 20,
   "id": "3a564fc8",
   "metadata": {},
   "outputs": [],
   "source": [
    "from gensim.models import KeyedVectors\n",
    "wv=KeyedVectors.load(\"vectors.kv\")"
   ]
  },
  {
   "cell_type": "code",
   "execution_count": 23,
   "id": "9ff02c62",
   "metadata": {},
   "outputs": [],
   "source": [
    "df=pd.read_csv(\"data_2.csv\")"
   ]
  },
  {
   "cell_type": "code",
   "execution_count": 24,
   "id": "2aaba92b",
   "metadata": {},
   "outputs": [],
   "source": [
    "def sentvec(sent):\n",
    "    v_size=wv.vector_size\n",
    "    wv_res=np.zeros(v_size)\n",
    "    ctr=1\n",
    "    for w in sent:\n",
    "        if w in wv:\n",
    "            ctr+=1\n",
    "            wv_res+=wv[w]\n",
    "    wv_res/=ctr\n",
    "    return wv_res"
   ]
  },
  {
   "cell_type": "code",
   "execution_count": 27,
   "id": "57975ab7",
   "metadata": {},
   "outputs": [],
   "source": [
    "# Creating our tokenizer function\n",
    "def spacy_tokenizer(sentence):\n",
    "    # Creating our token object, which is used to create documents with linguistic annotations.\n",
    "    doc = nlp(sentence)\n",
    "\n",
    "\n",
    "\n",
    "    # print(doc)\n",
    "    # print(type(doc))\n",
    "\n",
    "    # Lemmatizing each token and converting each token into lowercase\n",
    "    mytokens = [ word.lemma_.lower().strip() for word in doc ]\n",
    "\n",
    "    # print(mytokens)\n",
    "\n",
    "    # Removing stop words\n",
    "    mytokens = [ word for word in mytokens if word not in stop_words and word not in punctuations ]\n",
    "\n",
    "    # return preprocessed list of tokens\n",
    "    return mytokens"
   ]
  },
  {
   "cell_type": "code",
   "execution_count": 29,
   "id": "86bd124d",
   "metadata": {},
   "outputs": [],
   "source": [
    "import spacy\n",
    "nlp=spacy.load(\"en_core_web_sm\")\n",
    "stop_words=nlp.Defaults.stop_words\n",
    "#print(stop_words)"
   ]
  },
  {
   "cell_type": "code",
   "execution_count": 30,
   "id": "241af161",
   "metadata": {},
   "outputs": [
    {
     "name": "stdout",
     "output_type": "stream",
     "text": [
      "!\"#$%&'()*+,-./:;<=>?@[\\]^_`{|}~\n"
     ]
    }
   ],
   "source": [
    "import string\n",
    "punctuations = string.punctuation\n",
    "print(punctuations)"
   ]
  },
  {
   "cell_type": "code",
   "execution_count": 37,
   "id": "a4a6b737",
   "metadata": {},
   "outputs": [],
   "source": [
    "df['TOKENS'] = df['TEXT'].apply(spacy_tokenizer)"
   ]
  },
  {
   "cell_type": "code",
   "execution_count": 39,
   "id": "017499e0",
   "metadata": {},
   "outputs": [],
   "source": [
    "df['VEC'] = df['TOKENS'].apply(sentvec)"
   ]
  },
  {
   "cell_type": "code",
   "execution_count": 44,
   "id": "caa35a56",
   "metadata": {},
   "outputs": [],
   "source": [
    "X = df['VEC'].to_list()\n",
    "Y = df['LABEL'].to_list()"
   ]
  },
  {
   "cell_type": "code",
   "execution_count": 45,
   "id": "4af45a1d",
   "metadata": {},
   "outputs": [],
   "source": [
    "split_index = 6042\n",
    "X_train=X[split_index:]\n",
    "Y_train=Y[split_index:]\n",
    "X_test = X[:split_index]\n",
    "Y_test = Y[:split_index]"
   ]
  },
  {
   "cell_type": "code",
   "execution_count": 46,
   "id": "73f46e5f",
   "metadata": {},
   "outputs": [
    {
     "data": {
      "text/html": [
       "<style>#sk-container-id-1 {color: black;background-color: white;}#sk-container-id-1 pre{padding: 0;}#sk-container-id-1 div.sk-toggleable {background-color: white;}#sk-container-id-1 label.sk-toggleable__label {cursor: pointer;display: block;width: 100%;margin-bottom: 0;padding: 0.3em;box-sizing: border-box;text-align: center;}#sk-container-id-1 label.sk-toggleable__label-arrow:before {content: \"▸\";float: left;margin-right: 0.25em;color: #696969;}#sk-container-id-1 label.sk-toggleable__label-arrow:hover:before {color: black;}#sk-container-id-1 div.sk-estimator:hover label.sk-toggleable__label-arrow:before {color: black;}#sk-container-id-1 div.sk-toggleable__content {max-height: 0;max-width: 0;overflow: hidden;text-align: left;background-color: #f0f8ff;}#sk-container-id-1 div.sk-toggleable__content pre {margin: 0.2em;color: black;border-radius: 0.25em;background-color: #f0f8ff;}#sk-container-id-1 input.sk-toggleable__control:checked~div.sk-toggleable__content {max-height: 200px;max-width: 100%;overflow: auto;}#sk-container-id-1 input.sk-toggleable__control:checked~label.sk-toggleable__label-arrow:before {content: \"▾\";}#sk-container-id-1 div.sk-estimator input.sk-toggleable__control:checked~label.sk-toggleable__label {background-color: #d4ebff;}#sk-container-id-1 div.sk-label input.sk-toggleable__control:checked~label.sk-toggleable__label {background-color: #d4ebff;}#sk-container-id-1 input.sk-hidden--visually {border: 0;clip: rect(1px 1px 1px 1px);clip: rect(1px, 1px, 1px, 1px);height: 1px;margin: -1px;overflow: hidden;padding: 0;position: absolute;width: 1px;}#sk-container-id-1 div.sk-estimator {font-family: monospace;background-color: #f0f8ff;border: 1px dotted black;border-radius: 0.25em;box-sizing: border-box;margin-bottom: 0.5em;}#sk-container-id-1 div.sk-estimator:hover {background-color: #d4ebff;}#sk-container-id-1 div.sk-parallel-item::after {content: \"\";width: 100%;border-bottom: 1px solid gray;flex-grow: 1;}#sk-container-id-1 div.sk-label:hover label.sk-toggleable__label {background-color: #d4ebff;}#sk-container-id-1 div.sk-serial::before {content: \"\";position: absolute;border-left: 1px solid gray;box-sizing: border-box;top: 0;bottom: 0;left: 50%;z-index: 0;}#sk-container-id-1 div.sk-serial {display: flex;flex-direction: column;align-items: center;background-color: white;padding-right: 0.2em;padding-left: 0.2em;position: relative;}#sk-container-id-1 div.sk-item {position: relative;z-index: 1;}#sk-container-id-1 div.sk-parallel {display: flex;align-items: stretch;justify-content: center;background-color: white;position: relative;}#sk-container-id-1 div.sk-item::before, #sk-container-id-1 div.sk-parallel-item::before {content: \"\";position: absolute;border-left: 1px solid gray;box-sizing: border-box;top: 0;bottom: 0;left: 50%;z-index: -1;}#sk-container-id-1 div.sk-parallel-item {display: flex;flex-direction: column;z-index: 1;position: relative;background-color: white;}#sk-container-id-1 div.sk-parallel-item:first-child::after {align-self: flex-end;width: 50%;}#sk-container-id-1 div.sk-parallel-item:last-child::after {align-self: flex-start;width: 50%;}#sk-container-id-1 div.sk-parallel-item:only-child::after {width: 0;}#sk-container-id-1 div.sk-dashed-wrapped {border: 1px dashed gray;margin: 0 0.4em 0.5em 0.4em;box-sizing: border-box;padding-bottom: 0.4em;background-color: white;}#sk-container-id-1 div.sk-label label {font-family: monospace;font-weight: bold;display: inline-block;line-height: 1.2em;}#sk-container-id-1 div.sk-label-container {text-align: center;}#sk-container-id-1 div.sk-container {/* jupyter's `normalize.less` sets `[hidden] { display: none; }` but bootstrap.min.css set `[hidden] { display: none !important; }` so we also need the `!important` here to be able to override the default hidden behavior on the sphinx rendered scikit-learn.org. See: https://github.com/scikit-learn/scikit-learn/issues/21755 */display: inline-block !important;position: relative;}#sk-container-id-1 div.sk-text-repr-fallback {display: none;}</style><div id=\"sk-container-id-1\" class=\"sk-top-container\"><div class=\"sk-text-repr-fallback\"><pre>LogisticRegression(max_iter=1000)</pre><b>In a Jupyter environment, please rerun this cell to show the HTML representation or trust the notebook. <br />On GitHub, the HTML representation is unable to render, please try loading this page with nbviewer.org.</b></div><div class=\"sk-container\" hidden><div class=\"sk-item\"><div class=\"sk-estimator sk-toggleable\"><input class=\"sk-toggleable__control sk-hidden--visually\" id=\"sk-estimator-id-1\" type=\"checkbox\" checked><label for=\"sk-estimator-id-1\" class=\"sk-toggleable__label sk-toggleable__label-arrow\">LogisticRegression</label><div class=\"sk-toggleable__content\"><pre>LogisticRegression(max_iter=1000)</pre></div></div></div></div></div>"
      ],
      "text/plain": [
       "LogisticRegression(max_iter=1000)"
      ]
     },
     "execution_count": 46,
     "metadata": {},
     "output_type": "execute_result"
    }
   ],
   "source": [
    "from sklearn.linear_model import LogisticRegression\n",
    "classifier = LogisticRegression(solver='lbfgs', max_iter=1000)\n",
    "# fit\n",
    "classifier.fit(X_train,Y_train)"
   ]
  },
  {
   "cell_type": "code",
   "execution_count": 48,
   "id": "028796f6",
   "metadata": {},
   "outputs": [
    {
     "name": "stdout",
     "output_type": "stream",
     "text": [
      "Logistic Regression Accuracy: 0.8298576630254882\n",
      "Logistic Regression Precision: 0.8298576630254882\n",
      "Logistic Regression Recall: 0.8298576630254882\n"
     ]
    }
   ],
   "source": [
    "from sklearn import metrics\n",
    "predicted = classifier.predict(X_test)\n",
    "print(\"Logistic Regression Accuracy:\",metrics.accuracy_score(Y_test, predicted))\n",
    "print(\"Logistic Regression Precision:\",metrics.precision_score(Y_test, predicted,average='micro'))\n",
    "print(\"Logistic Regression Recall:\",metrics.recall_score(Y_test, predicted,average='micro'))"
   ]
  },
  {
   "cell_type": "code",
   "execution_count": null,
   "id": "c60c8b92",
   "metadata": {},
   "outputs": [],
   "source": [
    "classifier = MultinomialNB()\n",
    "\n",
    "classifier.fit(X_train,Y_train)\n",
    "predicted = classifier.predict(X_test)\n",
    "pred_prob=classifier.predict_proba(X_test)\n",
    "print(metrics.accuracy_score(Y_test, predicted))\n",
    "print(metrics.roc_auc_score(Y_test,pred_prob,multi_class='ovr'))\n",
    "print(metrics.f1_score(Y_test,predicted,average='micro'))"
   ]
  },
  {
   "cell_type": "code",
   "execution_count": null,
   "id": "3dba9de7",
   "metadata": {},
   "outputs": [],
   "source": [
    "classifier=RandomForestClassifier()\n",
    "classifier.fit(X_train,Y_train)\n",
    "predicted = classifier.predict(X_test)\n",
    "pred_prob=classifier.predict_proba(X_test)\n",
    "print(metrics.accuracy_score(Y_test, predicted))\n",
    "print(metrics.roc_auc_score(Y_test,pred_prob,multi_class='ovr'))\n",
    "print(metrics.f1_score(Y_test,predicted,average='micro'))"
   ]
  },
  {
   "cell_type": "code",
   "execution_count": null,
   "id": "aa6364cf",
   "metadata": {},
   "outputs": [],
   "source": [
    "from sklearn.naive_bayes import GaussianNB\n",
    "\n",
    "classifier = GaussianNB()\n",
    "classifier.fit(X_train,Y_train)\n",
    "predicted = classifier.predict(X_test)\n",
    "pred_prob=classifier.predict_proba(X_test)\n",
    "print(metrics.accuracy_score(Y_test, predicted))\n",
    "print(metrics.roc_auc_score(Y_test,pred_prob,multi_class='ovr'))\n",
    "print(metrics.f1_score(Y_test,predicted,average='micro'))"
   ]
  },
  {
   "cell_type": "code",
   "execution_count": null,
   "id": "c2ba2085",
   "metadata": {},
   "outputs": [],
   "source": [
    "from sklearn.naive_bayes import BernoulliNB\n",
    "classifier = BernoulliNB(binarize = True)\n",
    "classifier.fit(X_train,Y_train)\n",
    "predicted = classifier.predict(X_test)\n",
    "pred_prob=classifier.predict_proba(X_test)\n",
    "print(metrics.accuracy_score(Y_test, predicted))\n",
    "print(metrics.roc_auc_score(Y_test,pred_prob,multi_class='ovr'))\n",
    "print(metrics.f1_score(Y_test,predicted,average='micro'))"
   ]
  },
  {
   "cell_type": "code",
   "execution_count": null,
   "id": "643ff3fc",
   "metadata": {},
   "outputs": [],
   "source": [
    "from sklearn.ensemble import AdaBoostClassifier\n",
    "\n",
    "classifier = AdaBoostClassifier()\n",
    "classifier.fit(X_train,Y_train)\n",
    "predicted = classifier.predict(X_test)\n",
    "pred_prob=classifier.predict_proba(X_test)\n",
    "print(metrics.accuracy_score(Y_test, predicted))\n",
    "print(metrics.roc_auc_score(Y_test,pred_prob,multi_class='ovr'))\n",
    "print(metrics.f1_score(Y_test,predicted,average='micro'))"
   ]
  },
  {
   "cell_type": "code",
   "execution_count": null,
   "id": "ef103a0d",
   "metadata": {},
   "outputs": [],
   "source": [
    "from sklearn.neighbors import KNeighborsClassifier\n",
    "\n",
    "classifier = KNeighborsClassifier()\n",
    "classifier.fit(X_train,Y_train)\n",
    "predicted = classifier.predict(X_test)\n",
    "pred_prob=classifier.predict_proba(X_test)\n",
    "print(metrics.accuracy_score(Y_test, predicted))\n",
    "print(metrics.roc_auc_score(Y_test,pred_prob,multi_class='ovr'))\n",
    "print(metrics.f1_score(Y_test,predicted,average='micro'))"
   ]
  },
  {
   "cell_type": "code",
   "execution_count": null,
   "id": "1a577ef8",
   "metadata": {},
   "outputs": [],
   "source": [
    "from sklearn.ensemble import ExtraTreesClassifier\n",
    "\n",
    "classifier= ExtraTreesClassifier()\n",
    "classifier.fit(X_train,Y_train)\n",
    "predicted = classifier.predict(X_test)\n",
    "pred_prob=classifier.predict_proba(X_test)\n",
    "print(metrics.accuracy_score(Y_test, predicted))\n",
    "print(metrics.roc_auc_score(Y_test,pred_prob,multi_class='ovr'))\n",
    "print(metrics.f1_score(Y_test,predicted,average='micro'))"
   ]
  },
  {
   "cell_type": "code",
   "execution_count": null,
   "id": "4c33890a",
   "metadata": {},
   "outputs": [],
   "source": [
    "from sklearn.ensemble import BaggingClassifier\n",
    "\n",
    "classifier = BaggingClassifier()\n",
    "classifier.fit(X_train,Y_train)\n",
    "predicted = classifier.predict(X_test)\n",
    "pred_prob=classifier.predict_proba(X_test)\n",
    "print(metrics.accuracy_score(Y_test, predicted))\n",
    "print(metrics.roc_auc_score(Y_test,pred_prob,multi_class='ovr'))\n",
    "print(metrics.f1_score(Y_test,predicted,average='micro'))"
   ]
  },
  {
   "cell_type": "code",
   "execution_count": null,
   "id": "a8e7a810",
   "metadata": {},
   "outputs": [],
   "source": [
    "from sklearn.ensemble import GradientBoostingClassifier\n",
    "\n",
    "classifier= GradientBoostingClassifier()\n",
    "classifier.fit(X_train,Y_train)\n",
    "predicted = classifier.predict(X_test)\n",
    "pred_prob=classifier.predict_proba(X_test)\n",
    "print(metrics.accuracy_score(Y_test, predicted))\n",
    "print(metrics.roc_auc_score(Y_test,pred_prob,multi_class='ovr'))\n",
    "print(metrics.f1_score(Y_test,predicted,average='micro'))"
   ]
  },
  {
   "cell_type": "code",
   "execution_count": null,
   "id": "1e7bbab5",
   "metadata": {},
   "outputs": [],
   "source": [
    "import xgboost as xgb\n",
    "\n",
    "classifier= xgb.XGBClassifier()\n",
    "classifier.fit(X_train,Y_train)\n",
    "predicted = classifier.predict(X_test)\n",
    "pred_prob=classifier.predict_proba(X_test)\n",
    "print(metrics.accuracy_score(Y_test, predicted))\n",
    "print(metrics.roc_auc_score(Y_test,pred_prob,multi_class='ovr'))\n",
    "print(metrics.f1_score(Y_test,predicted,average='micro'))"
   ]
  },
  {
   "cell_type": "code",
   "execution_count": null,
   "id": "4d312450",
   "metadata": {},
   "outputs": [],
   "source": [
    "from sklearn.tree import DecisionTreeClassifier\n",
    "\n",
    "classifier= DecisionTreeClassifier()\n",
    "classifier.fit(X_train,Y_train)\n",
    "predicted = classifier.predict(X_test)\n",
    "pred_prob=classifier.predict_proba(X_test)\n",
    "print(metrics.accuracy_score(Y_test, predicted))\n",
    "print(metrics.roc_auc_score(Y_test,pred_prob,multi_class='ovr'))\n",
    "print(metrics.f1_score(Y_test,predicted,average='micro'))"
   ]
  },
  {
   "cell_type": "code",
   "execution_count": null,
   "id": "cfef1a86",
   "metadata": {},
   "outputs": [],
   "source": [
    "from sklearn.svm import SVC\n",
    "\n",
    "classifier= SVC(gamma='auto', probability=True)\n",
    "classifier.fit(X_train,Y_train)\n",
    "predicted = classifier.predict(X_test)\n",
    "pred_prob=classifier.predict_proba(X_test)\n",
    "print(metrics.accuracy_score(Y_test, predicted))\n",
    "print(metrics.roc_auc_score(Y_test,pred_prob,multi_class='ovr'))\n",
    "print(metrics.f1_score(Y_test,predicted,average='micro'))"
   ]
  }
 ],
 "metadata": {
  "kernelspec": {
   "display_name": "Python 3 (ipykernel)",
   "language": "python",
   "name": "python3"
  },
  "language_info": {
   "codemirror_mode": {
    "name": "ipython",
    "version": 3
   },
   "file_extension": ".py",
   "mimetype": "text/x-python",
   "name": "python",
   "nbconvert_exporter": "python",
   "pygments_lexer": "ipython3",
   "version": "3.10.6"
  }
 },
 "nbformat": 4,
 "nbformat_minor": 5
}
