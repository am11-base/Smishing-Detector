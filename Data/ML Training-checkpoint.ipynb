{
 "cells": [
  {
   "cell_type": "markdown",
   "id": "f53f3b1c",
   "metadata": {},
   "source": [
    "# TF-IDF "
   ]
  },
  {
   "cell_type": "code",
   "execution_count": 56,
   "id": "b951f6ae",
   "metadata": {},
   "outputs": [],
   "source": [
    "import pandas as pd\n",
    "import numpy as np\n",
    "from collections import Counter\n",
    "from sklearn.model_selection import train_test_split\n",
    "from sklearn.feature_extraction.text import TfidfVectorizer\n",
    "from sklearn.linear_model import LogisticRegression\n",
    "from sklearn.metrics import accuracy_score\n",
    "from gensim.models import Word2Vec\n",
    "import nltk\n",
    "import re\n",
    "import string"
   ]
  },
  {
   "cell_type": "code",
   "execution_count": 57,
   "id": "67e7edac",
   "metadata": {},
   "outputs": [
    {
     "name": "stderr",
     "output_type": "stream",
     "text": [
      "[nltk_data] Downloading package stopwords to /home/srj/nltk_data...\n",
      "[nltk_data]   Package stopwords is already up-to-date!\n"
     ]
    }
   ],
   "source": [
    "nltk.download('stopwords')\n",
    "from nltk.corpus import stopwords\n",
    "stopwords.words('english')\n",
    "#df0=pd.read_csv(\"data.csv\")\n",
    "df = pd.read_csv(\"data_2.csv\")\n",
    "#df0.info()"
   ]
  },
  {
   "cell_type": "code",
   "execution_count": 58,
   "id": "740ae128",
   "metadata": {},
   "outputs": [],
   "source": [
    "stopwords = nltk.corpus.stopwords.words('english')\n",
    "ps = nltk.WordNetLemmatizer()"
   ]
  },
  {
   "cell_type": "code",
   "execution_count": 59,
   "id": "d13bf4b2",
   "metadata": {},
   "outputs": [],
   "source": [
    "def clean_text(text):\n",
    "    no_punctuation = ''.join([word.lower() for word in text if word not in string.punctuation])\n",
    "    tokens = re.split('\\W+', text)\n",
    "    stems = [ps.lemmatize(word) for word in tokens if word not in stopwords] # Remove Stopwords\n",
    "    return stems"
   ]
  },
  {
   "cell_type": "code",
   "execution_count": 60,
   "id": "ff5f9bf3",
   "metadata": {
    "scrolled": true
   },
   "outputs": [
    {
     "name": "stdout",
     "output_type": "stream",
     "text": [
      "[(0, 9692), (1, 9786), (2, 9405)]\n"
     ]
    }
   ],
   "source": [
    "print(sorted(Counter(df['LABEL']).items()))"
   ]
  },
  {
   "cell_type": "code",
   "execution_count": 61,
   "id": "943e74bf",
   "metadata": {},
   "outputs": [],
   "source": [
    "X=df['TEXT']\n",
    "Y=df['LABEL']"
   ]
  },
  {
   "cell_type": "code",
   "execution_count": 62,
   "id": "61890dd0",
   "metadata": {},
   "outputs": [
    {
     "name": "stdout",
     "output_type": "stream",
     "text": [
      "(28883,)\n",
      "(28883,)\n"
     ]
    }
   ],
   "source": [
    "print(X.shape)\n",
    "print(Y.shape)"
   ]
  },
  {
   "cell_type": "code",
   "execution_count": 63,
   "id": "f2cacabb",
   "metadata": {},
   "outputs": [],
   "source": [
    "split_index = 6042"
   ]
  },
  {
   "cell_type": "code",
   "execution_count": 64,
   "id": "4c5c13cf",
   "metadata": {},
   "outputs": [],
   "source": [
    "X_train=X[split_index:]\n",
    "Y_train=Y[split_index:]"
   ]
  },
  {
   "cell_type": "code",
   "execution_count": 65,
   "id": "1408ebf0",
   "metadata": {},
   "outputs": [
    {
     "data": {
      "text/plain": [
       "(22841,)"
      ]
     },
     "execution_count": 65,
     "metadata": {},
     "output_type": "execute_result"
    }
   ],
   "source": [
    "X_train.shape"
   ]
  },
  {
   "cell_type": "code",
   "execution_count": 66,
   "id": "55100f06",
   "metadata": {},
   "outputs": [],
   "source": [
    "X_test = X[:split_index]\n",
    "Y_test = Y[:split_index]"
   ]
  },
  {
   "cell_type": "code",
   "execution_count": 67,
   "id": "9a193f89",
   "metadata": {},
   "outputs": [
    {
     "data": {
      "text/plain": [
       "(6042,)"
      ]
     },
     "execution_count": 67,
     "metadata": {},
     "output_type": "execute_result"
    }
   ],
   "source": [
    "X_test.shape"
   ]
  },
  {
   "cell_type": "code",
   "execution_count": 68,
   "id": "5fbcb7f1",
   "metadata": {},
   "outputs": [],
   "source": [
    "vect = TfidfVectorizer(analyzer=clean_text)\n",
    "vector=vect.fit_transform(X_train)\n",
    "X_train=pd.DataFrame(vector.toarray())"
   ]
  },
  {
   "cell_type": "code",
   "execution_count": 69,
   "id": "74988076",
   "metadata": {},
   "outputs": [],
   "source": [
    "\n",
    "vector1=vect.transform(X_test)\n",
    "X_test=pd.DataFrame(vector1.toarray())"
   ]
  },
  {
   "cell_type": "code",
   "execution_count": 70,
   "id": "50c91c57",
   "metadata": {},
   "outputs": [
    {
     "name": "stdout",
     "output_type": "stream",
     "text": [
      "(22841, 12713)\n",
      "(6042, 12713)\n"
     ]
    }
   ],
   "source": [
    "print(X_train.shape)\n",
    "print(X_test.shape)"
   ]
  },
  {
   "cell_type": "code",
   "execution_count": 71,
   "id": "6b3c2130",
   "metadata": {
    "scrolled": true
   },
   "outputs": [],
   "source": [
    "#X = [str(x) for x in X] #converting to iterable object before passing to fit transform\n",
    "#vect = TfidfVectorizer(analyzer=clean_text)\n",
    "#vector=vect.fit_transform(X)\n",
    "#X=pd.DataFrame(vector.toarray())"
   ]
  },
  {
   "cell_type": "code",
   "execution_count": 72,
   "id": "c56365e0",
   "metadata": {},
   "outputs": [],
   "source": [
    "from sklearn import metrics"
   ]
  },
  {
   "cell_type": "code",
   "execution_count": 73,
   "id": "7c72d83c",
   "metadata": {},
   "outputs": [
    {
     "name": "stdout",
     "output_type": "stream",
     "text": [
      "(28883,)\n",
      "(28883,)\n",
      "0.9894074809665674\n",
      "0.9996380875084302\n",
      "0.9894074809665674\n"
     ]
    }
   ],
   "source": [
    "classifier = LogisticRegression(solver='lbfgs', max_iter=1000)\n",
    "print(X.shape)\n",
    "print(Y.shape)\n",
    "classifier.fit(X_train,Y_train)\n",
    "predicted = classifier.predict(X_test)\n",
    "pred_prob=classifier.predict_proba(X_test)\n",
    "print(metrics.accuracy_score(Y_test, predicted))\n",
    "print(metrics.roc_auc_score(Y_test,pred_prob,multi_class='ovr'))\n",
    "print(metrics.f1_score(Y_test,predicted,average='micro'))"
   ]
  },
  {
   "cell_type": "markdown",
   "id": "57f034ad",
   "metadata": {},
   "source": [
    "# Word 2 VEC"
   ]
  },
  {
   "cell_type": "code",
   "execution_count": 176,
   "id": "eefc5d1f",
   "metadata": {},
   "outputs": [],
   "source": [
    "sentences = [text.split() for text in X_train]\n",
    "model = Word2Vec(sentences, vector_size=100, window=5, min_count=1, workers=4)"
   ]
  },
  {
   "cell_type": "code",
   "execution_count": 177,
   "id": "3bb5961d",
   "metadata": {},
   "outputs": [],
   "source": [
    "X_train_w2v = []\n",
    "for sentence in sentences:\n",
    "    sentence_vectors = []\n",
    "    for word in sentence:\n",
    "        if word in model.wv:\n",
    "            sentence_vectors.append(model.wv[word])\n",
    "    if sentence_vectors:\n",
    "        X_train_w2v.append(np.mean(sentence_vectors, axis=0))\n",
    "    else:\n",
    "        X_train_w2v.append(np.zeros(100))"
   ]
  },
  {
   "cell_type": "code",
   "execution_count": 178,
   "id": "5571ebd2",
   "metadata": {},
   "outputs": [
    {
     "name": "stderr",
     "output_type": "stream",
     "text": [
      "/home/srj/.local/lib/python3.10/site-packages/sklearn/linear_model/_logistic.py:458: ConvergenceWarning: lbfgs failed to converge (status=1):\n",
      "STOP: TOTAL NO. of ITERATIONS REACHED LIMIT.\n",
      "\n",
      "Increase the number of iterations (max_iter) or scale the data as shown in:\n",
      "    https://scikit-learn.org/stable/modules/preprocessing.html\n",
      "Please also refer to the documentation for alternative solver options:\n",
      "    https://scikit-learn.org/stable/modules/linear_model.html#logistic-regression\n",
      "  n_iter_i = _check_optimize_result(\n"
     ]
    }
   ],
   "source": [
    "clf = LogisticRegression()\n",
    "clf.fit(X_train_w2v, Y_train)\n",
    "X_train_w2v = np.array(X_train_w2v)"
   ]
  },
  {
   "cell_type": "code",
   "execution_count": 180,
   "id": "6c657357",
   "metadata": {},
   "outputs": [
    {
     "ename": "TypeError",
     "evalue": "argument of type 'Word2Vec' is not iterable",
     "output_type": "error",
     "traceback": [
      "\u001b[0;31m---------------------------------------------------------------------------\u001b[0m",
      "\u001b[0;31mTypeError\u001b[0m                                 Traceback (most recent call last)",
      "Cell \u001b[0;32mIn[180], line 9\u001b[0m\n\u001b[1;32m      7\u001b[0m vecs \u001b[38;5;241m=\u001b[39m []\n\u001b[1;32m      8\u001b[0m \u001b[38;5;28;01mfor\u001b[39;00m word \u001b[38;5;129;01min\u001b[39;00m words:\n\u001b[0;32m----> 9\u001b[0m     \u001b[38;5;28;01mif\u001b[39;00m \u001b[43mword\u001b[49m\u001b[43m \u001b[49m\u001b[38;5;129;43;01min\u001b[39;49;00m\u001b[43m \u001b[49m\u001b[43mmodel\u001b[49m:\n\u001b[1;32m     10\u001b[0m         vecs\u001b[38;5;241m.\u001b[39mappend(w2v_model[word])\n\u001b[1;32m     11\u001b[0m \u001b[38;5;28;01mif\u001b[39;00m \u001b[38;5;28mlen\u001b[39m(vecs) \u001b[38;5;241m>\u001b[39m \u001b[38;5;241m0\u001b[39m:\n",
      "\u001b[0;31mTypeError\u001b[0m: argument of type 'Word2Vec' is not iterable"
     ]
    }
   ],
   "source": [
    "x_test_w2v = np.zeros((len(X_test), model.vector_size))\n",
    "\n",
    "for i, doc in enumerate(X_test):\n",
    "    # Split the text document into words\n",
    "    words = doc.split()\n",
    "    # Compute the average vector of the words in the document\n",
    "    vecs = []\n",
    "    for word in words:\n",
    "        if word in model:\n",
    "            vecs.append(model[word])\n",
    "    if len(vecs) > 0:\n",
    "        avg_vec = np.mean(vecs, axis=0)\n",
    "    else:\n",
    "        avg_vec = np.zeros(model.vector_size)\n",
    "    x_test_w2v[i] = avg_vec\n"
   ]
  },
  {
   "cell_type": "code",
   "execution_count": 172,
   "id": "725033a5",
   "metadata": {},
   "outputs": [
    {
     "ename": "NameError",
     "evalue": "name 'x_test_w2v' is not defined",
     "output_type": "error",
     "traceback": [
      "\u001b[0;31m---------------------------------------------------------------------------\u001b[0m",
      "\u001b[0;31mNameError\u001b[0m                                 Traceback (most recent call last)",
      "Cell \u001b[0;32mIn[172], line 1\u001b[0m\n\u001b[0;32m----> 1\u001b[0m y_pred \u001b[38;5;241m=\u001b[39m clf\u001b[38;5;241m.\u001b[39mpredict(\u001b[43mx_test_w2v\u001b[49m)\n\u001b[1;32m      2\u001b[0m acc \u001b[38;5;241m=\u001b[39m np\u001b[38;5;241m.\u001b[39mmean(y_pred \u001b[38;5;241m==\u001b[39m y_test)\n\u001b[1;32m      3\u001b[0m \u001b[38;5;28mprint\u001b[39m(\u001b[38;5;124m\"\u001b[39m\u001b[38;5;124mAccuracy:\u001b[39m\u001b[38;5;124m\"\u001b[39m, acc)\n",
      "\u001b[0;31mNameError\u001b[0m: name 'x_test_w2v' is not defined"
     ]
    }
   ],
   "source": [
    "y_pred = clf.predict(x_test_w2v)\n",
    "acc = np.mean(y_pred == y_test)\n",
    "print(\"Accuracy:\", acc)"
   ]
  }
 ],
 "metadata": {
  "kernelspec": {
   "display_name": "Python 3 (ipykernel)",
   "language": "python",
   "name": "python3"
  },
  "language_info": {
   "codemirror_mode": {
    "name": "ipython",
    "version": 3
   },
   "file_extension": ".py",
   "mimetype": "text/x-python",
   "name": "python",
   "nbconvert_exporter": "python",
   "pygments_lexer": "ipython3",
   "version": "3.10.6"
  }
 },
 "nbformat": 4,
 "nbformat_minor": 5
}
