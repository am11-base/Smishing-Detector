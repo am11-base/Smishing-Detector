{
 "cells": [
  {
   "cell_type": "markdown",
   "id": "f53f3b1c",
   "metadata": {},
   "source": [
    "# TF-IDF "
   ]
  },
  {
   "cell_type": "code",
   "execution_count": 3,
   "id": "b951f6ae",
   "metadata": {},
   "outputs": [],
   "source": [
    "import pandas as pd\n",
    "import numpy as np\n",
    "from collections import Counter\n",
    "from sklearn.model_selection import train_test_split\n",
    "from sklearn.feature_extraction.text import TfidfVectorizer\n",
    "from sklearn.linear_model import LogisticRegression\n",
    "from sklearn.naive_bayes import MultinomialNB\n",
    "from sklearn import metrics\n",
    "from sklearn.ensemble import RandomForestClassifier\n",
    "from sklearn.metrics import accuracy_score\n",
    "from gensim.models import Word2Vec\n",
    "import gensim\n",
    "import gensim.downloader as api\n",
    "import nltk\n",
    "import re\n",
    "import string"
   ]
  },
  {
   "cell_type": "code",
   "execution_count": 4,
   "id": "67e7edac",
   "metadata": {},
   "outputs": [
    {
     "name": "stderr",
     "output_type": "stream",
     "text": [
      "[nltk_data] Downloading package stopwords to /home/srj/nltk_data...\n",
      "[nltk_data]   Package stopwords is already up-to-date!\n"
     ]
    }
   ],
   "source": [
    "nltk.download('stopwords')\n",
    "from nltk.corpus import stopwords\n",
    "stopwords.words('english')\n",
    "#df0=pd.read_csv(\"data.csv\")\n",
    "df = pd.read_csv(\"data_2.csv\")\n",
    "#df0.info()"
   ]
  },
  {
   "cell_type": "code",
   "execution_count": 5,
   "id": "740ae128",
   "metadata": {},
   "outputs": [],
   "source": [
    "stopwords = nltk.corpus.stopwords.words('english')\n",
    "ps = nltk.WordNetLemmatizer()"
   ]
  },
  {
   "cell_type": "code",
   "execution_count": 6,
   "id": "d13bf4b2",
   "metadata": {},
   "outputs": [],
   "source": [
    "def clean_text(text):\n",
    "    no_punctuation = ''.join([word.lower() for word in text if word not in string.punctuation])\n",
    "    tokens = re.split('\\W+', text)\n",
    "    stems = [ps.lemmatize(word) for word in tokens if word not in stopwords] # Remove Stopwords\n",
    "    return stems"
   ]
  },
  {
   "cell_type": "code",
   "execution_count": 7,
   "id": "ff5f9bf3",
   "metadata": {
    "scrolled": true
   },
   "outputs": [
    {
     "name": "stdout",
     "output_type": "stream",
     "text": [
      "[(0, 9692), (1, 9786), (2, 9405)]\n"
     ]
    }
   ],
   "source": [
    "print(sorted(Counter(df['LABEL']).items()))"
   ]
  },
  {
   "cell_type": "code",
   "execution_count": 8,
   "id": "943e74bf",
   "metadata": {},
   "outputs": [],
   "source": [
    "X=df['TEXT']\n",
    "Y=df['LABEL']"
   ]
  },
  {
   "cell_type": "code",
   "execution_count": 9,
   "id": "61890dd0",
   "metadata": {},
   "outputs": [
    {
     "name": "stdout",
     "output_type": "stream",
     "text": [
      "(28883,)\n",
      "(28883,)\n"
     ]
    }
   ],
   "source": [
    "print(X.shape)\n",
    "print(Y.shape)"
   ]
  },
  {
   "cell_type": "code",
   "execution_count": 10,
   "id": "f2cacabb",
   "metadata": {},
   "outputs": [],
   "source": [
    "split_index = 6042"
   ]
  },
  {
   "cell_type": "code",
   "execution_count": 11,
   "id": "4c5c13cf",
   "metadata": {},
   "outputs": [],
   "source": [
    "X_train=X[split_index:]\n",
    "Y_train=Y[split_index:]"
   ]
  },
  {
   "cell_type": "code",
   "execution_count": 12,
   "id": "1408ebf0",
   "metadata": {},
   "outputs": [
    {
     "data": {
      "text/plain": [
       "(22841,)"
      ]
     },
     "execution_count": 12,
     "metadata": {},
     "output_type": "execute_result"
    }
   ],
   "source": [
    "X_train.shape"
   ]
  },
  {
   "cell_type": "code",
   "execution_count": 13,
   "id": "55100f06",
   "metadata": {},
   "outputs": [],
   "source": [
    "X_test = X[:split_index]\n",
    "Y_test = Y[:split_index]"
   ]
  },
  {
   "cell_type": "code",
   "execution_count": 14,
   "id": "9a193f89",
   "metadata": {},
   "outputs": [
    {
     "data": {
      "text/plain": [
       "(6042,)"
      ]
     },
     "execution_count": 14,
     "metadata": {},
     "output_type": "execute_result"
    }
   ],
   "source": [
    "X_test.shape"
   ]
  },
  {
   "cell_type": "code",
   "execution_count": 15,
   "id": "5fbcb7f1",
   "metadata": {},
   "outputs": [],
   "source": [
    "vect = TfidfVectorizer(analyzer=clean_text)\n",
    "vector=vect.fit_transform(X_train)\n",
    "X_train=pd.DataFrame(vector.toarray())"
   ]
  },
  {
   "cell_type": "code",
   "execution_count": 16,
   "id": "74988076",
   "metadata": {},
   "outputs": [],
   "source": [
    "\n",
    "vector1=vect.transform(X_test)\n",
    "X_test=pd.DataFrame(vector1.toarray())"
   ]
  },
  {
   "cell_type": "code",
   "execution_count": 17,
   "id": "50c91c57",
   "metadata": {},
   "outputs": [
    {
     "name": "stdout",
     "output_type": "stream",
     "text": [
      "(22841, 12713)\n",
      "(6042, 12713)\n"
     ]
    }
   ],
   "source": [
    "print(X_train.shape)\n",
    "print(X_test.shape)"
   ]
  },
  {
   "cell_type": "code",
   "execution_count": 18,
   "id": "6b3c2130",
   "metadata": {
    "scrolled": true
   },
   "outputs": [],
   "source": [
    "#X = [str(x) for x in X] #converting to iterable object before passing to fit transform\n",
    "#vect = TfidfVectorizer(analyzer=clean_text)\n",
    "#vector=vect.fit_transform(X)\n",
    "#X=pd.DataFrame(vector.toarray())"
   ]
  },
  {
   "cell_type": "code",
   "execution_count": 19,
   "id": "c56365e0",
   "metadata": {},
   "outputs": [],
   "source": [
    "from sklearn import metrics"
   ]
  },
  {
   "cell_type": "code",
   "execution_count": 34,
   "id": "7c72d83c",
   "metadata": {},
   "outputs": [
    {
     "name": "stdout",
     "output_type": "stream",
     "text": [
      "(28883,)\n",
      "(28883,)\n",
      "0.9894074809665674\n",
      "0.9996380875084302\n",
      "0.9894074809665674\n"
     ]
    }
   ],
   "source": [
    "classifier = LogisticRegression(solver='lbfgs', max_iter=1000)\n",
    "print(X.shape)\n",
    "print(Y.shape)\n",
    "classifier.fit(X_train,Y_train)\n",
    "predicted = classifier.predict(X_test)\n",
    "pred_prob=classifier.predict_proba(X_test)\n",
    "print(metrics.accuracy_score(Y_test, predicted))\n",
    "print(metrics.roc_auc_score(Y_test,pred_prob,multi_class='ovr'))\n",
    "print(metrics.f1_score(Y_test,predicted,average='micro'))"
   ]
  },
  {
   "cell_type": "code",
   "execution_count": 35,
   "id": "d549bf09",
   "metadata": {},
   "outputs": [
    {
     "name": "stdout",
     "output_type": "stream",
     "text": [
      "0.9685534591194969\n",
      "0.9940648924967803\n",
      "0.9685534591194969\n"
     ]
    }
   ],
   "source": [
    "classifier = MultinomialNB()\n",
    "\n",
    "classifier.fit(X_train,Y_train)\n",
    "predicted = classifier.predict(X_test)\n",
    "pred_prob=classifier.predict_proba(X_test)\n",
    "print(metrics.accuracy_score(Y_test, predicted))\n",
    "print(metrics.roc_auc_score(Y_test,pred_prob,multi_class='ovr'))\n",
    "print(metrics.f1_score(Y_test,predicted,average='micro'))"
   ]
  },
  {
   "cell_type": "code",
   "execution_count": 36,
   "id": "043f0e0a",
   "metadata": {},
   "outputs": [
    {
     "name": "stdout",
     "output_type": "stream",
     "text": [
      "0.9930486593843099\n",
      "0.9993950263063788\n",
      "0.9930486593843099\n"
     ]
    }
   ],
   "source": [
    "classifier=RandomForestClassifier()\n",
    "classifier.fit(X_train,Y_train)\n",
    "predicted = classifier.predict(X_test)\n",
    "pred_prob=classifier.predict_proba(X_test)\n",
    "print(metrics.accuracy_score(Y_test, predicted))\n",
    "print(metrics.roc_auc_score(Y_test,pred_prob,multi_class='ovr'))\n",
    "print(metrics.f1_score(Y_test,predicted,average='micro'))"
   ]
  },
  {
   "cell_type": "code",
   "execution_count": 37,
   "id": "bd6d3573",
   "metadata": {},
   "outputs": [
    {
     "name": "stdout",
     "output_type": "stream",
     "text": [
      "0.940251572327044\n",
      "0.9624193952827907\n",
      "0.940251572327044\n"
     ]
    }
   ],
   "source": [
    "from sklearn.naive_bayes import GaussianNB\n",
    "\n",
    "classifier = GaussianNB()\n",
    "classifier.fit(X_train,Y_train)\n",
    "predicted = classifier.predict(X_test)\n",
    "pred_prob=classifier.predict_proba(X_test)\n",
    "print(metrics.accuracy_score(Y_test, predicted))\n",
    "print(metrics.roc_auc_score(Y_test,pred_prob,multi_class='ovr'))\n",
    "print(metrics.f1_score(Y_test,predicted,average='micro'))"
   ]
  },
  {
   "cell_type": "code",
   "execution_count": null,
   "id": "0a14cd2d",
   "metadata": {},
   "outputs": [],
   "source": [
    "from sklearn.naive_bayes import BernoulliNB\n",
    "classifier = BernoulliNB(binarize = True)\n",
    "classifier.fit(X_train,Y_train)\n",
    "predicted = classifier.predict(X_test)\n",
    "pred_prob=classifier.predict_proba(X_test)\n",
    "print(metrics.accuracy_score(Y_test, predicted))\n",
    "print(metrics.roc_auc_score(Y_test,pred_prob,multi_class='ovr'))\n",
    "print(metrics.f1_score(Y_test,predicted,average='micro'))"
   ]
  },
  {
   "cell_type": "code",
   "execution_count": null,
   "id": "f24336d1",
   "metadata": {},
   "outputs": [],
   "source": [
    "from sklearn.ensemble import AdaBoostClassifier\n",
    "\n",
    "classifier = AdaBoostClassifier()\n",
    "classifier.fit(X_train,Y_train)\n",
    "predicted = classifier.predict(X_test)\n",
    "pred_prob=classifier.predict_proba(X_test)\n",
    "print(metrics.accuracy_score(Y_test, predicted))\n",
    "print(metrics.roc_auc_score(Y_test,pred_prob,multi_class='ovr'))\n",
    "print(metrics.f1_score(Y_test,predicted,average='micro'))"
   ]
  },
  {
   "cell_type": "code",
   "execution_count": null,
   "id": "736191a6",
   "metadata": {},
   "outputs": [],
   "source": [
    "from sklearn.neighbors import KNeighborsClassifier\n",
    "\n",
    "classifier = KNeighborsClassifier()\n",
    "classifier.fit(X_train,Y_train)\n",
    "predicted = classifier.predict(X_test)\n",
    "pred_prob=classifier.predict_proba(X_test)\n",
    "print(metrics.accuracy_score(Y_test, predicted))\n",
    "print(metrics.roc_auc_score(Y_test,pred_prob,multi_class='ovr'))\n",
    "print(metrics.f1_score(Y_test,predicted,average='micro'))"
   ]
  },
  {
   "cell_type": "code",
   "execution_count": null,
   "id": "982e0c5c",
   "metadata": {},
   "outputs": [],
   "source": [
    "from sklearn.ensemble import ExtraTreesClassifier\n",
    "\n",
    "classifier= ExtraTreesClassifier()\n",
    "classifier.fit(X_train,Y_train)\n",
    "predicted = classifier.predict(X_test)\n",
    "pred_prob=classifier.predict_proba(X_test)\n",
    "print(metrics.accuracy_score(Y_test, predicted))\n",
    "print(metrics.roc_auc_score(Y_test,pred_prob,multi_class='ovr'))\n",
    "print(metrics.f1_score(Y_test,predicted,average='micro'))"
   ]
  },
  {
   "cell_type": "code",
   "execution_count": null,
   "id": "eeec183b",
   "metadata": {},
   "outputs": [],
   "source": [
    "from sklearn.ensemble import BaggingClassifier\n",
    "\n",
    "classifier = BaggingClassifier()\n",
    "classifier.fit(X_train,Y_train)\n",
    "predicted = classifier.predict(X_test)\n",
    "pred_prob=classifier.predict_proba(X_test)\n",
    "print(metrics.accuracy_score(Y_test, predicted))\n",
    "print(metrics.roc_auc_score(Y_test,pred_prob,multi_class='ovr'))\n",
    "print(metrics.f1_score(Y_test,predicted,average='micro'))"
   ]
  },
  {
   "cell_type": "code",
   "execution_count": null,
   "id": "90cc4c48",
   "metadata": {},
   "outputs": [],
   "source": [
    "from sklearn.ensemble import GradientBoostingClassifier\n",
    "\n",
    "classifier= GradientBoostingClassifier()\n",
    "classifier.fit(X_train,Y_train)\n",
    "predicted = classifier.predict(X_test)\n",
    "pred_prob=classifier.predict_proba(X_test)\n",
    "print(metrics.accuracy_score(Y_test, predicted))\n",
    "print(metrics.roc_auc_score(Y_test,pred_prob,multi_class='ovr'))\n",
    "print(metrics.f1_score(Y_test,predicted,average='micro'))"
   ]
  },
  {
   "cell_type": "code",
   "execution_count": null,
   "id": "d58da6da",
   "metadata": {},
   "outputs": [],
   "source": [
    "import xgboost as xgb\n",
    "\n",
    "classifier= xgb.XGBClassifier()\n",
    "classifier.fit(X_train,Y_train)\n",
    "predicted = classifier.predict(X_test)\n",
    "pred_prob=classifier.predict_proba(X_test)\n",
    "print(metrics.accuracy_score(Y_test, predicted))\n",
    "print(metrics.roc_auc_score(Y_test,pred_prob,multi_class='ovr'))\n",
    "print(metrics.f1_score(Y_test,predicted,average='micro'))"
   ]
  },
  {
   "cell_type": "code",
   "execution_count": null,
   "id": "f1efe773",
   "metadata": {},
   "outputs": [],
   "source": [
    "from sklearn.tree import DecisionTreeClassifier\n",
    "\n",
    "classifier= DecisionTreeClassifier()\n",
    "classifier.fit(X_train,Y_train)\n",
    "predicted = classifier.predict(X_test)\n",
    "pred_prob=classifier.predict_proba(X_test)\n",
    "print(metrics.accuracy_score(Y_test, predicted))\n",
    "print(metrics.roc_auc_score(Y_test,pred_prob,multi_class='ovr'))\n",
    "print(metrics.f1_score(Y_test,predicted,average='micro'))"
   ]
  },
  {
   "cell_type": "code",
   "execution_count": null,
   "id": "c9340c0f",
   "metadata": {},
   "outputs": [],
   "source": [
    "from sklearn.svm import SVC\n",
    "\n",
    "classifier= SVC(gamma='auto', probability=True)\n",
    "classifier.fit(X_train,Y_train)\n",
    "predicted = classifier.predict(X_test)\n",
    "pred_prob=classifier.predict_proba(X_test)\n",
    "print(metrics.accuracy_score(Y_test, predicted))\n",
    "print(metrics.roc_auc_score(Y_test,pred_prob,multi_class='ovr'))\n",
    "print(metrics.f1_score(Y_test,predicted,average='micro'))"
   ]
  }
 ],
 "metadata": {
  "kernelspec": {
   "display_name": "Python 3 (ipykernel)",
   "language": "python",
   "name": "python3"
  },
  "language_info": {
   "codemirror_mode": {
    "name": "ipython",
    "version": 3
   },
   "file_extension": ".py",
   "mimetype": "text/x-python",
   "name": "python",
   "nbconvert_exporter": "python",
   "pygments_lexer": "ipython3",
   "version": "3.10.6"
  }
 },
 "nbformat": 4,
 "nbformat_minor": 5
}
