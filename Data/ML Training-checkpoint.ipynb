{
 "cells": [
  {
   "cell_type": "markdown",
   "id": "f53f3b1c",
   "metadata": {},
   "source": [
    "# TF-IDF "
   ]
  },
  {
   "cell_type": "code",
   "execution_count": 212,
   "id": "b951f6ae",
   "metadata": {},
   "outputs": [],
   "source": [
    "import pandas as pd\n",
    "import numpy as np\n",
    "from collections import Counter\n",
    "from sklearn.model_selection import train_test_split\n",
    "from sklearn.feature_extraction.text import TfidfVectorizer\n",
    "from sklearn.linear_model import LogisticRegression\n",
    "from sklearn.metrics import accuracy_score\n",
    "from gensim.models import Word2Vec\n",
    "import gensim\n",
    "import nltk\n",
    "import re\n",
    "import string"
   ]
  },
  {
   "cell_type": "code",
   "execution_count": 213,
   "id": "67e7edac",
   "metadata": {},
   "outputs": [
    {
     "name": "stderr",
     "output_type": "stream",
     "text": [
      "[nltk_data] Downloading package stopwords to /home/srj/nltk_data...\n",
      "[nltk_data]   Package stopwords is already up-to-date!\n"
     ]
    }
   ],
   "source": [
    "nltk.download('stopwords')\n",
    "from nltk.corpus import stopwords\n",
    "stopwords.words('english')\n",
    "#df0=pd.read_csv(\"data.csv\")\n",
    "df = pd.read_csv(\"data_2.csv\")\n",
    "#df0.info()"
   ]
  },
  {
   "cell_type": "code",
   "execution_count": 214,
   "id": "740ae128",
   "metadata": {},
   "outputs": [],
   "source": [
    "stopwords = nltk.corpus.stopwords.words('english')\n",
    "ps = nltk.WordNetLemmatizer()"
   ]
  },
  {
   "cell_type": "code",
   "execution_count": 215,
   "id": "d13bf4b2",
   "metadata": {},
   "outputs": [],
   "source": [
    "def clean_text(text):\n",
    "    no_punctuation = ''.join([word.lower() for word in text if word not in string.punctuation])\n",
    "    tokens = re.split('\\W+', text)\n",
    "    stems = [ps.lemmatize(word) for word in tokens if word not in stopwords] # Remove Stopwords\n",
    "    return stems"
   ]
  },
  {
   "cell_type": "code",
   "execution_count": 216,
   "id": "ff5f9bf3",
   "metadata": {
    "scrolled": true
   },
   "outputs": [
    {
     "name": "stdout",
     "output_type": "stream",
     "text": [
      "[(0, 9692), (1, 9786), (2, 9405)]\n"
     ]
    }
   ],
   "source": [
    "print(sorted(Counter(df['LABEL']).items()))"
   ]
  },
  {
   "cell_type": "code",
   "execution_count": 217,
   "id": "943e74bf",
   "metadata": {},
   "outputs": [],
   "source": [
    "X=df['TEXT']\n",
    "Y=df['LABEL']"
   ]
  },
  {
   "cell_type": "code",
   "execution_count": 218,
   "id": "61890dd0",
   "metadata": {},
   "outputs": [
    {
     "name": "stdout",
     "output_type": "stream",
     "text": [
      "(28883,)\n",
      "(28883,)\n"
     ]
    }
   ],
   "source": [
    "print(X.shape)\n",
    "print(Y.shape)"
   ]
  },
  {
   "cell_type": "code",
   "execution_count": 219,
   "id": "f2cacabb",
   "metadata": {},
   "outputs": [],
   "source": [
    "split_index = 6042"
   ]
  },
  {
   "cell_type": "code",
   "execution_count": 220,
   "id": "4c5c13cf",
   "metadata": {},
   "outputs": [],
   "source": [
    "X_train=X[split_index:]\n",
    "Y_train=Y[split_index:]"
   ]
  },
  {
   "cell_type": "code",
   "execution_count": 221,
   "id": "1408ebf0",
   "metadata": {},
   "outputs": [
    {
     "data": {
      "text/plain": [
       "(22841,)"
      ]
     },
     "execution_count": 221,
     "metadata": {},
     "output_type": "execute_result"
    }
   ],
   "source": [
    "X_train.shape"
   ]
  },
  {
   "cell_type": "code",
   "execution_count": 222,
   "id": "55100f06",
   "metadata": {},
   "outputs": [],
   "source": [
    "X_test = X[:split_index]\n",
    "Y_test = Y[:split_index]"
   ]
  },
  {
   "cell_type": "code",
   "execution_count": 223,
   "id": "9a193f89",
   "metadata": {},
   "outputs": [
    {
     "data": {
      "text/plain": [
       "(6042,)"
      ]
     },
     "execution_count": 223,
     "metadata": {},
     "output_type": "execute_result"
    }
   ],
   "source": [
    "X_test.shape"
   ]
  },
  {
   "cell_type": "code",
   "execution_count": 211,
   "id": "5fbcb7f1",
   "metadata": {},
   "outputs": [],
   "source": [
    "vect = TfidfVectorizer(analyzer=clean_text)\n",
    "vector=vect.fit_transform(X_train)\n",
    "X_train=pd.DataFrame(vector.toarray())"
   ]
  },
  {
   "cell_type": "code",
   "execution_count": 69,
   "id": "74988076",
   "metadata": {},
   "outputs": [],
   "source": [
    "\n",
    "vector1=vect.transform(X_test)\n",
    "X_test=pd.DataFrame(vector1.toarray())"
   ]
  },
  {
   "cell_type": "code",
   "execution_count": 70,
   "id": "50c91c57",
   "metadata": {},
   "outputs": [
    {
     "name": "stdout",
     "output_type": "stream",
     "text": [
      "(22841, 12713)\n",
      "(6042, 12713)\n"
     ]
    }
   ],
   "source": [
    "print(X_train.shape)\n",
    "print(X_test.shape)"
   ]
  },
  {
   "cell_type": "code",
   "execution_count": 71,
   "id": "6b3c2130",
   "metadata": {
    "scrolled": true
   },
   "outputs": [],
   "source": [
    "#X = [str(x) for x in X] #converting to iterable object before passing to fit transform\n",
    "#vect = TfidfVectorizer(analyzer=clean_text)\n",
    "#vector=vect.fit_transform(X)\n",
    "#X=pd.DataFrame(vector.toarray())"
   ]
  },
  {
   "cell_type": "code",
   "execution_count": 72,
   "id": "c56365e0",
   "metadata": {},
   "outputs": [],
   "source": [
    "from sklearn import metrics"
   ]
  },
  {
   "cell_type": "code",
   "execution_count": 73,
   "id": "7c72d83c",
   "metadata": {},
   "outputs": [
    {
     "name": "stdout",
     "output_type": "stream",
     "text": [
      "(28883,)\n",
      "(28883,)\n",
      "0.9894074809665674\n",
      "0.9996380875084302\n",
      "0.9894074809665674\n"
     ]
    }
   ],
   "source": [
    "classifier = LogisticRegression(solver='lbfgs', max_iter=1000)\n",
    "print(X.shape)\n",
    "print(Y.shape)\n",
    "classifier.fit(X_train,Y_train)\n",
    "predicted = classifier.predict(X_test)\n",
    "pred_prob=classifier.predict_proba(X_test)\n",
    "print(metrics.accuracy_score(Y_test, predicted))\n",
    "print(metrics.roc_auc_score(Y_test,pred_prob,multi_class='ovr'))\n",
    "print(metrics.f1_score(Y_test,predicted,average='micro'))"
   ]
  },
  {
   "cell_type": "markdown",
   "id": "57f034ad",
   "metadata": {},
   "source": [
    "# Word 2 VEC"
   ]
  },
  {
   "cell_type": "code",
   "execution_count": 224,
   "id": "e9bcf869",
   "metadata": {},
   "outputs": [],
   "source": [
    "sentences = [text.split() for text in X_train]\n",
    "model = gensim.models.Word2Vec(sentences, vector_size=100, window=5, min_count=1, workers=4)"
   ]
  },
  {
   "cell_type": "code",
   "execution_count": 225,
   "id": "670b1af2",
   "metadata": {},
   "outputs": [],
   "source": [
    "vectors = [model.wv[word] for word in model.wv.key_to_index]"
   ]
  },
  {
   "cell_type": "code",
   "execution_count": 226,
   "id": "25f843ef",
   "metadata": {},
   "outputs": [
    {
     "name": "stdout",
     "output_type": "stream",
     "text": [
      "[-0.79806495  0.89216757 -0.75797063 -0.1372547  -1.3807007  -1.5608773\n",
      "  0.6221995   0.18504266  0.10329235 -0.33440885  0.6300291   0.8293424\n",
      "  0.69612634  0.6289937  -0.21543959 -0.49038303 -0.48889723 -0.53284615\n",
      "  0.31816244 -0.30571085  0.24551092  0.44193393 -0.20134924 -0.01035091\n",
      " -0.5459161  -0.38241976 -0.67213124 -0.3365276  -0.09392142  0.34124458\n",
      "  0.9266336   0.01647446  1.0215642   0.34005767 -0.33032653  0.54919827\n",
      "  1.0906571  -0.3117597  -0.26833338 -0.19396326  0.05200782  0.86636746\n",
      "  0.6608984   0.2665755  -0.25651222  0.40164915 -1.3543936   0.24225219\n",
      "  0.9139206   0.29704055  0.38005227 -0.57352734  0.21503568 -0.6860946\n",
      " -1.3875958   1.2151928   0.89885074 -0.1671848  -0.08318228 -0.1540577\n",
      "  0.8044998   0.5939675   0.19123973 -0.1323124   0.76913637  0.8378855\n",
      "  0.8174234   0.7076686  -1.0967726   0.5385225  -0.447959    1.2467918\n",
      "  0.69760644  0.17087696  0.67714095  0.33567095 -0.7542481   0.51917845\n",
      " -0.863527   -0.43139482  0.8152826   0.32446998 -0.31769904  0.27583957\n",
      " -0.6258116  -1.0454621  -0.04484478 -0.02409041  0.3817272   0.12985045\n",
      " -0.1505249   0.6530104  -0.2244818  -0.29460573  0.5117018   0.30965295\n",
      " -0.13504386 -0.6124892   0.41651914 -0.3554895 ]\n"
     ]
    }
   ],
   "source": [
    "print(model.wv[\"urgent\"])"
   ]
  },
  {
   "cell_type": "code",
   "execution_count": 227,
   "id": "58ffeba3",
   "metadata": {},
   "outputs": [],
   "source": [
    "def sentences_to_vectors(sentences, model):\n",
    "    sentence_vectors = []\n",
    "    for sentence in sentences:\n",
    "        sentence_vector = []\n",
    "        for word in sentence:\n",
    "            if word in model.wv.key_to_index:\n",
    "                sentence_vector.append(model.wv[word])\n",
    "        if sentence_vector:\n",
    "            sentence_vector = np.mean(sentence_vector, axis=0)\n",
    "        else:\n",
    "            sentence_vector = np.zeros(model.vector_size)\n",
    "        sentence_vectors.append(sentence_vector)\n",
    "    return sentence_vectors"
   ]
  },
  {
   "cell_type": "code",
   "execution_count": 228,
   "id": "13bc5637",
   "metadata": {},
   "outputs": [],
   "source": [
    "X_test_vectors = sentences_to_vectors(X_test, model)"
   ]
  },
  {
   "cell_type": "code",
   "execution_count": null,
   "id": "d69d9049",
   "metadata": {},
   "outputs": [],
   "source": [
    "classifier = LogisticRegression(solver='lbfgs', max_iter=1000)\n",
    "print(X.shape)\n",
    "print(Y.shape)\n",
    "classifier.fit(X_train,Y_train)\n",
    "predicted = classifier.predict(X_test)\n",
    "pred_prob=classifier.predict_proba(X_test)\n",
    "print(metrics.accuracy_score(Y_test, predicted))\n",
    "print(metrics.roc_auc_score(Y_test,pred_prob,multi_class='ovr'))\n",
    "print(metrics.f1_score(Y_test,predicted,average='micro'))"
   ]
  }
 ],
 "metadata": {
  "kernelspec": {
   "display_name": "Python 3 (ipykernel)",
   "language": "python",
   "name": "python3"
  },
  "language_info": {
   "codemirror_mode": {
    "name": "ipython",
    "version": 3
   },
   "file_extension": ".py",
   "mimetype": "text/x-python",
   "name": "python",
   "nbconvert_exporter": "python",
   "pygments_lexer": "ipython3",
   "version": "3.10.6"
  }
 },
 "nbformat": 4,
 "nbformat_minor": 5
}
