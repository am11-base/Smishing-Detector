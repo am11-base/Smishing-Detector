{
 "cells": [
  {
   "cell_type": "code",
   "execution_count": 1,
   "id": "8580eb9e",
   "metadata": {},
   "outputs": [],
   "source": [
    "import pandas as pd\n",
    "from collections import Counter\n",
    "from sklearn.naive_bayes import MultinomialNB\n",
    "from sklearn import metrics\n",
    "from sklearn.ensemble import RandomForestClassifier\n",
    "from sklearn.model_selection  import train_test_split"
   ]
  },
  {
   "cell_type": "code",
   "execution_count": 3,
   "id": "6aa38574",
   "metadata": {},
   "outputs": [],
   "source": [
    "datasets=pd.read_csv(\"E:/Users/hashim/Documents/cse 19-23/4th yr/project/dataset/gsheets/data.csv\")\n"
   ]
  },
  {
   "cell_type": "code",
   "execution_count": 4,
   "id": "8444964a",
   "metadata": {},
   "outputs": [
    {
     "name": "stdout",
     "output_type": "stream",
     "text": [
      "[(0, 4846), (1, 699), (2, 495)]\n"
     ]
    }
   ],
   "source": [
    "print(sorted(Counter(datasets['LABEL']).items()))"
   ]
  },
  {
   "cell_type": "code",
   "execution_count": 5,
   "id": "f7b642b3",
   "metadata": {},
   "outputs": [],
   "source": [
    "X=datasets['TEXT']\n",
    "Y=datasets['LABEL']"
   ]
  },
  {
   "cell_type": "code",
   "execution_count": 6,
   "id": "cbeb6677",
   "metadata": {},
   "outputs": [
    {
     "name": "stdout",
     "output_type": "stream",
     "text": [
      "0    Your opinion about me? 1. Over 2. Jada 3. Kusr...\n",
      "1    What's up? Do you want me to come online? If y...\n",
      "2                         So u workin overtime nigpun?\n",
      "3    Also sir, i sent you an email about how to log...\n",
      "4    Please Stay At Home. To encourage the notion o...\n",
      "Name: TEXT, dtype: object\n"
     ]
    }
   ],
   "source": [
    "print(X.head())"
   ]
  },
  {
   "cell_type": "code",
   "execution_count": 5,
   "id": "4b32eb62",
   "metadata": {},
   "outputs": [
    {
     "data": {
      "text/plain": [
       "<bound method NDFrame.head of 0       Your opinion about me? 1. Over 2. Jada 3. Kusr...\n",
       "1       What's up? Do you want me to come online? If y...\n",
       "2                            So u workin overtime nigpun?\n",
       "3       Also sir, i sent you an email about how to log...\n",
       "4       Please Stay At Home. To encourage the notion o...\n",
       "                              ...                        \n",
       "6035    Dear Customer,We have not received the schedul...\n",
       "6036    Dear Customer Your DEBIT(ATM) Card BLOCKED Due...\n",
       "6037    HDFC Ltd has requested payment of Rs. 8218. Li...\n",
       "6038    Recharge Airtel No.using HDFC Bank A/C.Add Pre...\n",
       "6039    Attention MANJU, Important message from HDFC B...\n",
       "Name: TEXT, Length: 6040, dtype: object>"
      ]
     },
     "execution_count": 5,
     "metadata": {},
     "output_type": "execute_result"
    }
   ],
   "source": [
    "X.head"
   ]
  },
  {
   "cell_type": "code",
   "execution_count": 7,
   "id": "9b89b739",
   "metadata": {},
   "outputs": [
    {
     "name": "stderr",
     "output_type": "stream",
     "text": [
      "[nltk_data] Downloading package stopwords to\n",
      "[nltk_data]     C:\\Users\\ALAMEEN\\AppData\\Roaming\\nltk_data...\n",
      "[nltk_data]   Package stopwords is already up-to-date!\n"
     ]
    }
   ],
   "source": [
    "import nltk\n",
    "nltk.download('stopwords')\n",
    "from nltk.corpus import stopwords\n",
    "stopwords.words('english')\n",
    "import re\n",
    "from sklearn.feature_extraction.text import TfidfVectorizer\n",
    "import string"
   ]
  },
  {
   "cell_type": "code",
   "execution_count": 8,
   "id": "7672d934",
   "metadata": {},
   "outputs": [],
   "source": [
    "stopwords = nltk.corpus.stopwords.words('english')\n",
    "ps = nltk.WordNetLemmatizer()"
   ]
  },
  {
   "cell_type": "code",
   "execution_count": 9,
   "id": "1fa9b2f9",
   "metadata": {},
   "outputs": [],
   "source": [
    "def clean_text(text):\n",
    "    no_punctuation = ''.join([word.lower() for word in text if word not in string.punctuation])\n",
    "    tokens = re.split('\\W+', text)\n",
    "    stems = [ps.lemmatize(word) for word in tokens if word not in stopwords] # Remove Stopwords\n",
    "    return stems"
   ]
  },
  {
   "cell_type": "code",
   "execution_count": 10,
   "id": "1c6afb01",
   "metadata": {},
   "outputs": [],
   "source": [
    "from sklearn.feature_extraction.text import TfidfVectorizer\n",
    "vect = TfidfVectorizer(analyzer=clean_text)\n",
    "vector=vect.fit_transform(X)\n",
    "X=pd.DataFrame(vector.toarray())"
   ]
  },
  {
   "cell_type": "code",
   "execution_count": 11,
   "id": "7f12c7bc",
   "metadata": {},
   "outputs": [],
   "source": [
    "from sklearn.model_selection  import train_test_split\n",
    "x_train, x_test, y_train, y_test = train_test_split(X, Y,test_size = 0.20, random_state=26)"
   ]
  },
  {
   "cell_type": "code",
   "execution_count": 12,
   "id": "f6dff9f4",
   "metadata": {},
   "outputs": [],
   "source": [
    "from imblearn.combine import SMOTEENN, SMOTETomek\n",
    "from imblearn.over_sampling import BorderlineSMOTE, SMOTE, ADASYN, SMOTENC, RandomOverSampler"
   ]
  },
  {
   "cell_type": "code",
   "execution_count": 10,
   "id": "ebd142fb",
   "metadata": {},
   "outputs": [],
   "source": [
    "sm = SMOTE(random_state=777)\n",
    "X, Y = sm.fit_resample(x_train,y_train)"
   ]
  },
  {
   "cell_type": "code",
   "execution_count": 13,
   "id": "65ca37e8",
   "metadata": {},
   "outputs": [],
   "source": [
    "asm = ADASYN(random_state=777)\n",
    "X, Y = asm.fit_resample(x_train,y_train)"
   ]
  },
  {
   "cell_type": "code",
   "execution_count": 25,
   "id": "f1c65232",
   "metadata": {},
   "outputs": [],
   "source": [
    "bsm = BorderlineSMOTE()\n",
    "X, Y = bsm.fit_resample(x_train,y_train)"
   ]
  },
  {
   "cell_type": "code",
   "execution_count": 14,
   "id": "3b1596f4",
   "metadata": {},
   "outputs": [],
   "source": [
    "from sklearn.linear_model import LogisticRegression\n",
    "from sklearn import metrics\n",
    "from sklearn.naive_bayes import MultinomialNB\n",
    "from sklearn.ensemble import RandomForestClassifier"
   ]
  },
  {
   "cell_type": "code",
   "execution_count": 15,
   "id": "18dba2b2",
   "metadata": {},
   "outputs": [
    {
     "data": {
      "text/plain": [
       "<bound method NDFrame.head of           0      1      2      3      4      5      6      7      8      \\\n",
       "0      0.000000    0.0    0.0    0.0    0.0    0.0    0.0    0.0    0.0   \n",
       "1      0.000000    0.0    0.0    0.0    0.0    0.0    0.0    0.0    0.0   \n",
       "2      0.048375    0.0    0.0    0.0    0.0    0.0    0.0    0.0    0.0   \n",
       "3      0.049910    0.0    0.0    0.0    0.0    0.0    0.0    0.0    0.0   \n",
       "4      0.055701    0.0    0.0    0.0    0.0    0.0    0.0    0.0    0.0   \n",
       "...         ...    ...    ...    ...    ...    ...    ...    ...    ...   \n",
       "11551  0.045983    0.0    0.0    0.0    0.0    0.0    0.0    0.0    0.0   \n",
       "11552  0.021624    0.0    0.0    0.0    0.0    0.0    0.0    0.0    0.0   \n",
       "11553  0.050402    0.0    0.0    0.0    0.0    0.0    0.0    0.0    0.0   \n",
       "11554  0.048109    0.0    0.0    0.0    0.0    0.0    0.0    0.0    0.0   \n",
       "11555  0.047645    0.0    0.0    0.0    0.0    0.0    0.0    0.0    0.0   \n",
       "\n",
       "       9      ...  11645  11646  11647  11648  11649  11650  11651  11652  \\\n",
       "0        0.0  ...    0.0    0.0    0.0    0.0    0.0    0.0    0.0    0.0   \n",
       "1        0.0  ...    0.0    0.0    0.0    0.0    0.0    0.0    0.0    0.0   \n",
       "2        0.0  ...    0.0    0.0    0.0    0.0    0.0    0.0    0.0    0.0   \n",
       "3        0.0  ...    0.0    0.0    0.0    0.0    0.0    0.0    0.0    0.0   \n",
       "4        0.0  ...    0.0    0.0    0.0    0.0    0.0    0.0    0.0    0.0   \n",
       "...      ...  ...    ...    ...    ...    ...    ...    ...    ...    ...   \n",
       "11551    0.0  ...    0.0    0.0    0.0    0.0    0.0    0.0    0.0    0.0   \n",
       "11552    0.0  ...    0.0    0.0    0.0    0.0    0.0    0.0    0.0    0.0   \n",
       "11553    0.0  ...    0.0    0.0    0.0    0.0    0.0    0.0    0.0    0.0   \n",
       "11554    0.0  ...    0.0    0.0    0.0    0.0    0.0    0.0    0.0    0.0   \n",
       "11555    0.0  ...    0.0    0.0    0.0    0.0    0.0    0.0    0.0    0.0   \n",
       "\n",
       "       11653  11654  \n",
       "0        0.0    0.0  \n",
       "1        0.0    0.0  \n",
       "2        0.0    0.0  \n",
       "3        0.0    0.0  \n",
       "4        0.0    0.0  \n",
       "...      ...    ...  \n",
       "11551    0.0    0.0  \n",
       "11552    0.0    0.0  \n",
       "11553    0.0    0.0  \n",
       "11554    0.0    0.0  \n",
       "11555    0.0    0.0  \n",
       "\n",
       "[11556 rows x 11655 columns]>"
      ]
     },
     "execution_count": 15,
     "metadata": {},
     "output_type": "execute_result"
    }
   ],
   "source": [
    "X.head"
   ]
  },
  {
   "cell_type": "code",
   "execution_count": 16,
   "id": "3f566774",
   "metadata": {},
   "outputs": [
    {
     "data": {
      "text/plain": [
       "<bound method NDFrame.head of          0      1      2      3      4      5      6      7      8      9      \\\n",
       "4323  0.090903    0.0    0.0    0.0    0.0    0.0    0.0    0.0    0.0    0.0   \n",
       "3799  0.035877    0.0    0.0    0.0    0.0    0.0    0.0    0.0    0.0    0.0   \n",
       "931   0.041238    0.0    0.0    0.0    0.0    0.0    0.0    0.0    0.0    0.0   \n",
       "4537  0.051091    0.0    0.0    0.0    0.0    0.0    0.0    0.0    0.0    0.0   \n",
       "4371  0.000000    0.0    0.0    0.0    0.0    0.0    0.0    0.0    0.0    0.0   \n",
       "...        ...    ...    ...    ...    ...    ...    ...    ...    ...    ...   \n",
       "3480  0.043478    0.0    0.0    0.0    0.0    0.0    0.0    0.0    0.0    0.0   \n",
       "1587  0.032708    0.0    0.0    0.0    0.0    0.0    0.0    0.0    0.0    0.0   \n",
       "5570  0.000000    0.0    0.0    0.0    0.0    0.0    0.0    0.0    0.0    0.0   \n",
       "5842  0.000000    0.0    0.0    0.0    0.0    0.0    0.0    0.0    0.0    0.0   \n",
       "2976  0.105837    0.0    0.0    0.0    0.0    0.0    0.0    0.0    0.0    0.0   \n",
       "\n",
       "      ...  11645  11646  11647  11648  11649  11650  11651  11652  11653  \\\n",
       "4323  ...    0.0    0.0    0.0    0.0    0.0    0.0    0.0    0.0    0.0   \n",
       "3799  ...    0.0    0.0    0.0    0.0    0.0    0.0    0.0    0.0    0.0   \n",
       "931   ...    0.0    0.0    0.0    0.0    0.0    0.0    0.0    0.0    0.0   \n",
       "4537  ...    0.0    0.0    0.0    0.0    0.0    0.0    0.0    0.0    0.0   \n",
       "4371  ...    0.0    0.0    0.0    0.0    0.0    0.0    0.0    0.0    0.0   \n",
       "...   ...    ...    ...    ...    ...    ...    ...    ...    ...    ...   \n",
       "3480  ...    0.0    0.0    0.0    0.0    0.0    0.0    0.0    0.0    0.0   \n",
       "1587  ...    0.0    0.0    0.0    0.0    0.0    0.0    0.0    0.0    0.0   \n",
       "5570  ...    0.0    0.0    0.0    0.0    0.0    0.0    0.0    0.0    0.0   \n",
       "5842  ...    0.0    0.0    0.0    0.0    0.0    0.0    0.0    0.0    0.0   \n",
       "2976  ...    0.0    0.0    0.0    0.0    0.0    0.0    0.0    0.0    0.0   \n",
       "\n",
       "      11654  \n",
       "4323    0.0  \n",
       "3799    0.0  \n",
       "931     0.0  \n",
       "4537    0.0  \n",
       "4371    0.0  \n",
       "...     ...  \n",
       "3480    0.0  \n",
       "1587    0.0  \n",
       "5570    0.0  \n",
       "5842    0.0  \n",
       "2976    0.0  \n",
       "\n",
       "[1208 rows x 11655 columns]>"
      ]
     },
     "execution_count": 16,
     "metadata": {},
     "output_type": "execute_result"
    }
   ],
   "source": [
    "x_test.head"
   ]
  },
  {
   "cell_type": "code",
   "execution_count": 17,
   "id": "d6abb3b4",
   "metadata": {},
   "outputs": [],
   "source": [
    "from sklearn.linear_model import LogisticRegression\n",
    "from sklearn import metrics\n",
    "from sklearn.naive_bayes import MultinomialNB\n",
    "from sklearn.ensemble import RandomForestClassifier"
   ]
  },
  {
   "cell_type": "code",
   "execution_count": 18,
   "id": "f52cd68c",
   "metadata": {},
   "outputs": [
    {
     "name": "stdout",
     "output_type": "stream",
     "text": [
      "0.9412251655629139\n",
      "0.9633759078480223\n",
      "0.9412251655629139\n"
     ]
    }
   ],
   "source": [
    "\n",
    "classifier = LogisticRegression(solver='lbfgs', max_iter=1000)\n",
    "classifier.fit(X,Y)\n",
    "predicted = classifier.predict(x_test)\n",
    "pred_prob=classifier.predict_proba(x_test)\n",
    "print(metrics.accuracy_score(y_test, predicted))\n",
    "print(metrics.roc_auc_score(y_test,pred_prob,multi_class='ovr'))\n",
    "print(metrics.f1_score(y_test,predicted,average='micro'))"
   ]
  },
  {
   "cell_type": "code",
   "execution_count": null,
   "id": "01ef5342",
   "metadata": {},
   "outputs": [],
   "source": []
  },
  {
   "cell_type": "code",
   "execution_count": 19,
   "id": "55a9cf11",
   "metadata": {},
   "outputs": [
    {
     "name": "stdout",
     "output_type": "stream",
     "text": [
      "0.9346026490066225\n",
      "0.9494187181734665\n",
      "0.9346026490066225\n"
     ]
    }
   ],
   "source": [
    "classifier = MultinomialNB()\n",
    "\n",
    "classifier.fit(X,Y)\n",
    "predicted = classifier.predict(x_test)\n",
    "pred_prob=classifier.predict_proba(x_test)\n",
    "print(metrics.accuracy_score(y_test, predicted))\n",
    "print(metrics.roc_auc_score(y_test,pred_prob,multi_class='ovr'))\n",
    "print(metrics.f1_score(y_test,predicted,average='micro'))"
   ]
  },
  {
   "cell_type": "code",
   "execution_count": 20,
   "id": "89b92610",
   "metadata": {},
   "outputs": [
    {
     "name": "stdout",
     "output_type": "stream",
     "text": [
      "0.945364238410596\n",
      "0.9616486167399687\n",
      "0.945364238410596\n"
     ]
    }
   ],
   "source": [
    "classifier=RandomForestClassifier()\n",
    "classifier.fit(X,Y)\n",
    "predicted = classifier.predict(x_test)\n",
    "pred_prob=classifier.predict_proba(x_test)\n",
    "print(metrics.accuracy_score(y_test, predicted))\n",
    "print(metrics.roc_auc_score(y_test,pred_prob,multi_class='ovr'))\n",
    "print(metrics.f1_score(y_test,predicted,average='micro'))"
   ]
  },
  {
   "cell_type": "code",
   "execution_count": 21,
   "id": "f3417d60",
   "metadata": {},
   "outputs": [
    {
     "name": "stdout",
     "output_type": "stream",
     "text": [
      "0.8824503311258278\n",
      "0.8562347890739644\n",
      "0.8824503311258278\n"
     ]
    }
   ],
   "source": [
    "from sklearn.naive_bayes import GaussianNB\n",
    "\n",
    "classifier = GaussianNB()\n",
    "classifier.fit(X,Y)\n",
    "predicted = classifier.predict(x_test)\n",
    "pred_prob=classifier.predict_proba(x_test)\n",
    "print(metrics.accuracy_score(y_test, predicted))\n",
    "print(metrics.roc_auc_score(y_test,pred_prob,multi_class='ovr'))\n",
    "print(metrics.f1_score(y_test,predicted,average='micro'))"
   ]
  },
  {
   "cell_type": "code",
   "execution_count": 22,
   "id": "093a9def",
   "metadata": {},
   "outputs": [
    {
     "name": "stdout",
     "output_type": "stream",
     "text": [
      "0.07864238410596026\n",
      "0.5\n",
      "0.07864238410596026\n"
     ]
    }
   ],
   "source": [
    "from sklearn.naive_bayes import BernoulliNB\n",
    "classifier = BernoulliNB(binarize = True)\n",
    "classifier.fit(X,Y)\n",
    "predicted = classifier.predict(x_test)\n",
    "pred_prob=classifier.predict_proba(x_test)\n",
    "print(metrics.accuracy_score(y_test, predicted))\n",
    "print(metrics.roc_auc_score(y_test,pred_prob,multi_class='ovr'))\n",
    "print(metrics.f1_score(y_test,predicted,average='micro'))"
   ]
  },
  {
   "cell_type": "code",
   "execution_count": 23,
   "id": "e76dfe91",
   "metadata": {},
   "outputs": [
    {
     "name": "stdout",
     "output_type": "stream",
     "text": [
      "0.9081125827814569\n",
      "0.9373742533223707\n",
      "0.9081125827814569\n"
     ]
    }
   ],
   "source": [
    "from sklearn.ensemble import AdaBoostClassifier\n",
    "\n",
    "classifier = AdaBoostClassifier()\n",
    "classifier.fit(X,Y)\n",
    "predicted = classifier.predict(x_test)\n",
    "pred_prob=classifier.predict_proba(x_test)\n",
    "print(metrics.accuracy_score(y_test, predicted))\n",
    "print(metrics.roc_auc_score(y_test,pred_prob,multi_class='ovr'))\n",
    "print(metrics.f1_score(y_test,predicted,average='micro'))"
   ]
  },
  {
   "cell_type": "code",
   "execution_count": 24,
   "id": "a0eb2c78",
   "metadata": {},
   "outputs": [
    {
     "name": "stdout",
     "output_type": "stream",
     "text": [
      "0.4652317880794702\n",
      "0.8136536361364427\n",
      "0.4652317880794702\n"
     ]
    }
   ],
   "source": [
    "from sklearn.neighbors import KNeighborsClassifier\n",
    "\n",
    "classifier = KNeighborsClassifier()\n",
    "classifier.fit(X,Y)\n",
    "predicted = classifier.predict(x_test)\n",
    "pred_prob=classifier.predict_proba(x_test)\n",
    "print(metrics.accuracy_score(y_test, predicted))\n",
    "print(metrics.roc_auc_score(y_test,pred_prob,multi_class='ovr'))\n",
    "print(metrics.f1_score(y_test,predicted,average='micro'))"
   ]
  },
  {
   "cell_type": "code",
   "execution_count": 25,
   "id": "4850f60b",
   "metadata": {},
   "outputs": [
    {
     "name": "stdout",
     "output_type": "stream",
     "text": [
      "0.9495033112582781\n",
      "0.9502152894662114\n",
      "0.9495033112582781\n"
     ]
    }
   ],
   "source": [
    "from sklearn.ensemble import ExtraTreesClassifier\n",
    "\n",
    "classifier= ExtraTreesClassifier()\n",
    "classifier.fit(X,Y)\n",
    "predicted = classifier.predict(x_test)\n",
    "pred_prob=classifier.predict_proba(x_test)\n",
    "print(metrics.accuracy_score(y_test, predicted))\n",
    "print(metrics.roc_auc_score(y_test,pred_prob,multi_class='ovr'))\n",
    "print(metrics.f1_score(y_test,predicted,average='micro'))"
   ]
  },
  {
   "cell_type": "code",
   "execution_count": 26,
   "id": "ddc2a98e",
   "metadata": {},
   "outputs": [
    {
     "name": "stdout",
     "output_type": "stream",
     "text": [
      "0.9246688741721855\n",
      "0.9195273998880995\n",
      "0.9246688741721856\n"
     ]
    }
   ],
   "source": [
    "from sklearn.ensemble import BaggingClassifier\n",
    "\n",
    "classifier = BaggingClassifier()\n",
    "classifier.fit(X,Y)\n",
    "predicted = classifier.predict(x_test)\n",
    "pred_prob=classifier.predict_proba(x_test)\n",
    "print(metrics.accuracy_score(y_test, predicted))\n",
    "print(metrics.roc_auc_score(y_test,pred_prob,multi_class='ovr'))\n",
    "print(metrics.f1_score(y_test,predicted,average='micro'))"
   ]
  },
  {
   "cell_type": "code",
   "execution_count": 27,
   "id": "80cfd1f9",
   "metadata": {},
   "outputs": [
    {
     "name": "stdout",
     "output_type": "stream",
     "text": [
      "0.9337748344370861\n",
      "0.9592793480364508\n",
      "0.9337748344370861\n"
     ]
    }
   ],
   "source": [
    "from sklearn.ensemble import GradientBoostingClassifier\n",
    "\n",
    "classifier= GradientBoostingClassifier()\n",
    "classifier.fit(X,Y)\n",
    "predicted = classifier.predict(x_test)\n",
    "pred_prob=classifier.predict_proba(x_test)\n",
    "print(metrics.accuracy_score(y_test, predicted))\n",
    "print(metrics.roc_auc_score(y_test,pred_prob,multi_class='ovr'))\n",
    "print(metrics.f1_score(y_test,predicted,average='micro'))"
   ]
  },
  {
   "cell_type": "code",
   "execution_count": 28,
   "id": "ea5c18e3",
   "metadata": {},
   "outputs": [
    {
     "name": "stdout",
     "output_type": "stream",
     "text": [
      "0.9379139072847682\n",
      "0.9661074332261217\n",
      "0.9379139072847682\n"
     ]
    }
   ],
   "source": [
    "import xgboost as xgb\n",
    "\n",
    "classifier= xgb.XGBClassifier()\n",
    "classifier.fit(X,Y)\n",
    "predicted = classifier.predict(x_test)\n",
    "pred_prob=classifier.predict_proba(x_test)\n",
    "print(metrics.accuracy_score(y_test, predicted))\n",
    "print(metrics.roc_auc_score(y_test,pred_prob,multi_class='ovr'))\n",
    "print(metrics.f1_score(y_test,predicted,average='micro'))"
   ]
  },
  {
   "cell_type": "code",
   "execution_count": 29,
   "id": "bbd32ee0",
   "metadata": {},
   "outputs": [
    {
     "name": "stdout",
     "output_type": "stream",
     "text": [
      "0.9213576158940397\n",
      "0.8615742416057057\n",
      "0.9213576158940397\n"
     ]
    }
   ],
   "source": [
    "from sklearn.tree import DecisionTreeClassifier\n",
    "\n",
    "classifier= DecisionTreeClassifier()\n",
    "classifier.fit(X,Y)\n",
    "predicted = classifier.predict(x_test)\n",
    "pred_prob=classifier.predict_proba(x_test)\n",
    "print(metrics.accuracy_score(y_test, predicted))\n",
    "print(metrics.roc_auc_score(y_test,pred_prob,multi_class='ovr'))\n",
    "print(metrics.f1_score(y_test,predicted,average='micro'))"
   ]
  },
  {
   "cell_type": "code",
   "execution_count": null,
   "id": "4cd5afd8",
   "metadata": {},
   "outputs": [],
   "source": [
    "from sklearn.svm import SVC\n",
    "\n",
    "classifier= SVC(gamma='auto', probability=True)\n",
    "classifier.fit(X,Y)\n",
    "predicted = classifier.predict(x_test)\n",
    "pred_prob=classifier.predict_proba(x_test)\n",
    "print(metrics.accuracy_score(y_test, predicted))\n",
    "print(metrics.roc_auc_score(y_test,pred_prob,multi_class='ovr'))\n",
    "print(metrics.f1_score(y_test,predicted,average='micro'))"
   ]
  }
 ],
 "metadata": {
  "kernelspec": {
   "display_name": "Python 3 (ipykernel)",
   "language": "python",
   "name": "python3"
  },
  "language_info": {
   "codemirror_mode": {
    "name": "ipython",
    "version": 3
   },
   "file_extension": ".py",
   "mimetype": "text/x-python",
   "name": "python",
   "nbconvert_exporter": "python",
   "pygments_lexer": "ipython3",
   "version": "3.9.12"
  }
 },
 "nbformat": 4,
 "nbformat_minor": 5
}
