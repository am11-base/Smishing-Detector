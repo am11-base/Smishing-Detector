{
 "cells": [
  {
   "cell_type": "code",
   "execution_count": 41,
   "id": "9cbc48ea",
   "metadata": {},
   "outputs": [],
   "source": [
    "import pandas as pd\n"
   ]
  },
  {
   "cell_type": "code",
   "execution_count": 45,
   "id": "ce8dbc4e",
   "metadata": {},
   "outputs": [],
   "source": [
    "vec=pd.read_csv('E:/Users/hashim/Documents/cse 19-23/4th yr/project/dataset/gsheets/bertFeatures.csv')"
   ]
  },
  {
   "cell_type": "code",
   "execution_count": 46,
   "id": "7d085301",
   "metadata": {},
   "outputs": [
    {
     "data": {
      "text/plain": [
       "(6040, 768)"
      ]
     },
     "execution_count": 46,
     "metadata": {},
     "output_type": "execute_result"
    }
   ],
   "source": [
    "vec.shape"
   ]
  },
  {
   "cell_type": "code",
   "execution_count": 47,
   "id": "4999ee06",
   "metadata": {},
   "outputs": [
    {
     "data": {
      "text/plain": [
       "0     -13.751841\n",
       "1     -44.407150\n",
       "2      61.418320\n",
       "3      -6.481122\n",
       "4      25.783450\n",
       "         ...    \n",
       "763     3.493593\n",
       "764    -9.355887\n",
       "765    -4.063731\n",
       "766    25.391695\n",
       "767   -12.625185\n",
       "Name: 0, Length: 768, dtype: float64"
      ]
     },
     "execution_count": 47,
     "metadata": {},
     "output_type": "execute_result"
    }
   ],
   "source": [
    "vec.loc[0]"
   ]
  },
  {
   "cell_type": "code",
   "execution_count": 49,
   "id": "07bff7a8",
   "metadata": {},
   "outputs": [],
   "source": [
    "vectors=vec.values.tolist()"
   ]
  },
  {
   "cell_type": "code",
   "execution_count": 50,
   "id": "fcf35c37",
   "metadata": {},
   "outputs": [
    {
     "data": {
      "text/plain": [
       "list"
      ]
     },
     "execution_count": 50,
     "metadata": {},
     "output_type": "execute_result"
    }
   ],
   "source": [
    "type(vectors)"
   ]
  },
  {
   "cell_type": "code",
   "execution_count": 52,
   "id": "2e72bfe3",
   "metadata": {},
   "outputs": [
    {
     "data": {
      "text/plain": [
       "6040"
      ]
     },
     "execution_count": 52,
     "metadata": {},
     "output_type": "execute_result"
    }
   ],
   "source": [
    "len(vectors)"
   ]
  },
  {
   "cell_type": "code",
   "execution_count": 53,
   "id": "ac3d50fa",
   "metadata": {},
   "outputs": [],
   "source": [
    "dataset=pd.read_csv('E:/Users/hashim/Documents/cse 19-23/4th yr/project/dataset/gsheets/data.csv')"
   ]
  },
  {
   "cell_type": "code",
   "execution_count": 29,
   "id": "9745e393",
   "metadata": {},
   "outputs": [
    {
     "data": {
      "text/plain": [
       "(6040, 2)"
      ]
     },
     "execution_count": 29,
     "metadata": {},
     "output_type": "execute_result"
    }
   ],
   "source": [
    "dataset.shape"
   ]
  },
  {
   "cell_type": "code",
   "execution_count": 24,
   "id": "8f17b9d9",
   "metadata": {},
   "outputs": [],
   "source": [
    "label=dataset['LABEL']"
   ]
  },
  {
   "cell_type": "code",
   "execution_count": 60,
   "id": "644e888d",
   "metadata": {},
   "outputs": [
    {
     "data": {
      "text/plain": [
       "(6040,)"
      ]
     },
     "execution_count": 60,
     "metadata": {},
     "output_type": "execute_result"
    }
   ],
   "source": [
    "label.shape"
   ]
  },
  {
   "cell_type": "code",
   "execution_count": 54,
   "id": "8b52fc17",
   "metadata": {},
   "outputs": [],
   "source": [
    "from sklearn.model_selection  import train_test_split\n",
    "x_train, x_test, y_train, y_test = train_test_split(vectors, label,test_size = 0.20, random_state=26)"
   ]
  },
  {
   "cell_type": "code",
   "execution_count": 61,
   "id": "4d299bce",
   "metadata": {},
   "outputs": [
    {
     "name": "stdout",
     "output_type": "stream",
     "text": [
      "[16.16778, -20.694693, 71.789085, 7.5209203, 5.6386056, -15.940938, 14.08489, 29.03618, 31.982004, -23.335869, -13.905136, -7.3061934, 15.867454, 23.09508, -1.9743276, 31.140364, -13.314042, -8.238226, -26.624722, -8.277736, 21.931112, -6.8069744, 11.835257, 8.41929, 12.4895525, 12.111144, -14.978682, -28.854528, -26.289349, 10.130592, 2.8408387, -6.726967, -1.4884588, 23.051905, -12.505596, -6.9625015, -37.68693, 8.652258, 8.676566, -15.586666, -23.34334, -30.431646, -7.1587105, -31.69977, -27.818327, -23.168993, 13.329417, 18.924051, -24.976824, -27.606052, -11.520065, -0.5241828, -8.115942, -1.9782343, -13.642376, 2.7322972, 24.696386, -5.592516, 6.095679, 6.8213964, 15.788817, -7.8891687, -3.2078815, 31.519615, 16.529615, -1.8250332, 2.5509737, 58.860355, -7.0211744, -11.838129, -3.643425, -20.153606, -14.056021, -36.880653, 24.042606, -4.1117425, 1.2137703, 19.214415, 20.995584, 37.133488, 3.62585, 20.221199, 17.40874, 20.272448, 12.136861, -9.245511, -17.619661, -18.031168, -32.803707, 11.344658, 1.8130682, -21.229017, 23.015474, -0.95368874, -31.87604, -20.043169, -26.253569, -0.5128826, -4.7605243, 35.385784, -30.980406, -69.90764, -32.77947, -37.243286, -51.943954, 23.04421, -10.637944, -19.653122, 7.659695, 6.3792615, -24.673656, 27.334484, 4.520029, 11.490402, 16.819159, 10.914632, -1.6866683, -24.848774, 35.69128, 20.311674, -1.6921122, 16.71929, 21.334156, 26.72987, 13.910961, 4.9975066, -13.6945305, -6.881791, 4.4770985, -50.147507, 27.449022, 49.42846, 22.341608, -12.64782, -7.8818455, -23.358957, 5.8509693, -6.284566, 20.020195, -46.028263, 17.661652, 28.272123, 9.945832, 1.0851498, 6.916779, 6.590198, -39.44576, -11.725769, -12.668471, 43.102856, -18.866032, 33.26381, 3.446658, -34.692417, -0.078679696, -32.542572, -20.897932, 17.59952, -32.16314, 25.411758, 38.41815, 14.287792, 1.8687433, 35.345993, 39.71097, -29.13254, 15.398563, 11.256064, 0.6955071, -29.274641, 6.919261, -19.420649, 54.46186, 2.1855187, 3.5230308, 7.445256, 47.77458, -24.141815, 5.579155, 10.275534, -40.444496, -6.5638733, 10.26461, 0.7471058, -0.4603847, -1.7570685, 17.623035, -30.386305, 32.29218, 34.81666, -20.288374, -36.926968, 9.254793, -7.2380867, 13.854205, -47.66339, -13.395768, -3.2032099, 9.702658, 11.511099, 38.28339, -44.702312, 23.84186, 17.063143, -3.723416, 25.054728, 14.163962, -5.087942, -15.564457, -4.36256, -30.22967, 33.79742, 9.122584, 11.121243, 38.75266, 3.2494328, 49.8856, -41.068733, -27.711023, 9.259864, -7.035926, -20.918829, 30.745014, 20.770025, -37.625553, 15.258617, 14.857123, -5.7345624, 10.826586, -40.31444, -39.686047, -13.323916, 11.995417, 28.285866, 0.51041484, 39.34662, -16.708115, 17.051394, -12.190556, -6.2166963, -17.499283, 37.893967, 14.6564455, 0.743816, -38.032276, 49.047802, 55.29348, -21.397352, -0.037700832, -14.235457, -21.762667, -24.826544, -5.4624314, -25.068092, 7.6611795, -54.25346, -9.837894, -15.105256, -6.9917655, -16.319237, -7.4253902, -16.397413, 49.463486, -2.108236, -7.9042315, -19.485466, -7.380517, -5.022139, -0.83606106, 23.028887, 6.175794, 20.855042, -1.7811521, 13.443779, -14.612144, -25.739197, 55.66744, 18.712729, 34.571846, 12.113431, -12.062561, 13.657713, -33.923523, 4.735548, 10.861526, 13.599359, 0.03186941, 4.8330283, -34.84781, -37.16999, -30.359814, -8.3543215, 37.228756, 52.97932, 36.59197, -17.802654, -21.110403, 17.122612, -7.683336, 23.491032, -16.863363, 6.583484, -0.26080495, -1.3456742, -17.802456, -33.69402, 10.942664, 21.221022, -788.3758, -15.848389, 3.0598962, -29.083927, 10.824546, -23.048132, 29.472904, 4.847986, 12.118958, -0.701399, 16.449986, -21.04103, -0.96514857, -3.0115585, 8.253427, -6.6079664, 5.7948546, -24.47088, -33.94708, 48.620975, -55.04653, 3.6075416, 37.415157, 11.14033, 24.17915, 6.702794, 13.583902, 9.835402, -15.593437, 4.7430005, -15.652393, -11.409079, 24.956097, 50.16159, 11.948767, -8.577761, 20.833, -33.952427, 15.024512, -9.128031, 20.163326, -1.7163135, -14.854927, -25.307865, 13.863726, -19.68151, 40.489693, -18.535624, 21.26545, -14.604892, 14.909894, 6.2149096, -28.082033, -14.518342, 18.731373, -16.23112, -41.8367, 68.40859, -26.1274, -11.262978, 6.9144287, 38.263992, -18.288733, -4.677049, -17.307373, 26.486774, 17.7215, 11.59099, 36.156456, 55.81009, -10.723075, -39.72648, 3.4909, -63.425797, 1.3666173, 46.240776, -2.4938571, -5.188252, 1.5555099, 9.364609, -31.209654, 24.747793, 23.195936, 34.16332, -11.3290615, -34.81959, 0.1441432, -11.926766, 8.245075, 2.655163, 19.113455, -2.1211662, 28.481182, 5.875246, 25.927557, 16.502632, 44.70834, -0.869753, 19.487717, -21.246855, 25.507912, 11.882315, 1.4863826, -33.82939, -22.130028, -31.614435, -34.834827, -4.6172013, 4.5732093, -18.044855, 15.00896, -13.9043455, -1.8304923, 6.5639977, 1.0082792, -36.27142, 16.84627, -4.16976, -6.0392475, 3.1682289, -23.891798, 75.43086, -64.67389, -32.89903, -73.700584, -0.6498854, -18.634861, -7.1532817, -8.941794, -4.1959224, -9.893316, 31.007332, 17.830744, -15.813774, 14.448933, -17.723858, 20.711103, -26.588942, 26.007307, 14.057778, 28.768223, 30.027454, -16.60296, -2.942355, 2.617243, 35.08668, -6.5459156, -24.56824, -27.721987, 37.972397, 14.901544, -65.46607, -1.746233, 35.323933, 5.103418, -1.878135, -1.2614573, -25.38563, -14.526413, -17.388376, 2.75672, 0.7634561, 17.837894, 33.416336, 25.52521, 9.218048, -7.410262, 9.032483, -29.33546, -0.7212265, -5.409569, 1.5529339, -26.88029, 5.0213375, -1.4832999, 12.061006, -1.8241903, -21.100153, -10.893137, -20.06188, 34.777763, -15.45103, -12.317538, -17.091019, 34.024204, -16.598001, -40.776546, -1.1775697, 21.118027, 56.615658, 11.088952, -9.124567, -48.377064, -41.268696, 26.695019, 10.195553, -4.471976, -7.2756996, -5.7763057, 8.745886, 31.506296, 14.779161, -34.65911, 2.6756094, 11.338608, -14.649156, 32.593254, 20.310328, -9.930393, 11.017836, 49.495975, -35.36985, -58.558887, -25.503742, 3.1859894, 25.812086, -10.349202, -20.77409, 18.422016, -4.6022625, -25.680384, 1.6673021, -25.22564, -4.459776, -8.209892, 10.91742, -15.272791, -18.864027, 17.887543, -1.2772696, 2.6122065, -14.968145, -4.0542254, 53.498302, 21.226751, -9.009431, -6.9981246, 43.003483, -31.47303, -0.17444593, -45.12264, -20.248646, -23.99542, -24.561275, 12.046939, 28.514145, -20.192057, -4.3677692, 7.8578377, 45.776688, 12.331898, -42.601814, -19.154068, 0.46174425, -16.767082, -29.028788, -16.5716, -6.038619, -34.72277, -9.7520275, -13.653102, -8.570995, 14.859011, 16.872864, -18.578058, 49.366634, 40.26792, 11.269129, -16.518045, 2.5615296, -10.97305, -11.289188, 34.375042, 25.422789, -2.858636, -14.906173, -40.684658, -7.670595, -11.801692, -23.51465, 24.683372, 12.23332, 23.145891, 14.852497, 3.6653469, -40.452866, -14.850197, -13.333016, -36.127804, 2.014948, -12.757805, 28.415949, -18.260914, 16.47896, 31.339125, 30.025103, 13.126436, -0.4881372, -48.281918, -9.907532, 4.911972, -0.87323844, 73.75555, 1.3897998, -30.22698, 46.677357, 14.517682, -50.80358, 26.61628, 0.69570315, -33.507942, 1.1368836, 31.555828, 57.126778, -39.396976, -15.847778, 28.14949, -30.306505, -59.993988, -26.832815, 1.8677583, -20.674986, 38.078583, -13.457879, -7.325465, 2.3274992, -35.57107, 33.88437, 41.361534, 34.0873, 45.23566, 26.799059, -31.743359, 42.460438, 13.882612, -5.759402, 36.841022, -27.69887, 7.189947, -30.174465, 21.127583, 43.320118, 3.7375374, -24.736652, -17.204956, 11.267225, 38.79389, -65.08955, 15.597794, 53.9863, 0.23458654, -13.35903, -43.738914, -19.29664, -8.114949, 24.22765, -6.3602295, 17.889202, -8.960244, 26.156496, 17.527489, 14.9424925, 19.039827, 7.317896, -33.47893, -7.220924, 3.4071078, 10.408858, -2.9044266, 7.2438707, 16.514256, 35.668034, -11.385062, 22.325878, -11.767893, 44.423344, 43.654984, 25.55732, -51.69214, 12.229814, -7.7647166, 1.4644263, -24.493666, -16.28389, 45.006104, -42.743095, -30.622185, 13.579435, -27.502306, 3.267634, 17.625383, -3.3042014, -25.225765, -52.979767, 1.1097612, -41.757736, 6.887533, 6.8484917, 11.255042, 14.4048815, 40.270252, -1.6956236, 12.262231, 32.700787, -20.52715, 18.70808, -13.9628725, -3.0494347, -5.9953375, 27.401876, 4.5716095, -4.531414, -23.661886, 47.46541, 2.53384, 13.621215, 1.8609113, -23.849333, 1.5761303, -13.27923, -37.31429, 8.723099, -10.07552, 38.49342, -9.604044, 15.089982, 3.4207587, 17.707296, 6.078371, 5.5011816, -34.822796, 10.221606, 4.6482124, -8.615739, -11.542356, -27.098253, -24.368362, 8.89275, -3.8371649, -10.818777, 1.3860445, -8.671704, -48.70785, -35.96598, -1.8144352, -44.79722, -3.1195462, 10.033561, -48.245937, -43.83654, 43.227383, -32.17603, -11.811121, 11.363155, 5.7884583, 5.690646, -13.060179, -21.961102, 22.666014, 32.65844]\n"
     ]
    }
   ],
   "source": [
    "print(x_train[0])"
   ]
  },
  {
   "cell_type": "code",
   "execution_count": 62,
   "id": "6bc2ccfb",
   "metadata": {},
   "outputs": [
    {
     "data": {
      "text/plain": [
       "768"
      ]
     },
     "execution_count": 62,
     "metadata": {},
     "output_type": "execute_result"
    }
   ],
   "source": [
    "len(x_train[0])"
   ]
  },
  {
   "cell_type": "code",
   "execution_count": 55,
   "id": "7efb1d0a",
   "metadata": {},
   "outputs": [],
   "source": [
    "from sklearn import metrics"
   ]
  },
  {
   "cell_type": "code",
   "execution_count": 57,
   "id": "1caa9c27",
   "metadata": {},
   "outputs": [
    {
     "name": "stdout",
     "output_type": "stream",
     "text": [
      "0.9461920529801324\n",
      "0.9837331118286755\n",
      "0.8259365335044873\n"
     ]
    }
   ],
   "source": [
    "from sklearn.linear_model import LogisticRegression\n",
    "classifier = LogisticRegression(solver='lbfgs', max_iter=10000)\n",
    "# fit\n",
    "\n",
    "\n",
    "classifier.fit(x_train,y_train)\n",
    "predicted = classifier.predict(x_test)\n",
    "pred_prob=classifier.predict_proba(x_test)\n",
    "print(metrics.accuracy_score(y_test, predicted))\n",
    "print(metrics.roc_auc_score(y_test,pred_prob,multi_class='ovr'))\n",
    "print(metrics.f1_score(y_test,predicted,average='macro'))"
   ]
  },
  {
   "cell_type": "code",
   "execution_count": 59,
   "id": "862279b3",
   "metadata": {},
   "outputs": [
    {
     "name": "stdout",
     "output_type": "stream",
     "text": [
      "0.9511589403973509\n",
      "0.9757554906139276\n",
      "0.8314068827570379\n"
     ]
    }
   ],
   "source": [
    "from sklearn.ensemble import RandomForestClassifier\n",
    "classifier=RandomForestClassifier()\n",
    "classifier.fit(x_train,y_train)\n",
    "predicted = classifier.predict(x_test)\n",
    "pred_prob=classifier.predict_proba(x_test)\n",
    "print(metrics.accuracy_score(y_test, predicted))\n",
    "print(metrics.roc_auc_score(y_test,pred_prob,multi_class='ovr'))\n",
    "print(metrics.f1_score(y_test,predicted,average='macro'))"
   ]
  },
  {
   "cell_type": "code",
   "execution_count": 63,
   "id": "9f57aaa7",
   "metadata": {},
   "outputs": [
    {
     "name": "stdout",
     "output_type": "stream",
     "text": [
      "0.9420529801324503\n",
      "0.9705325457194337\n",
      "0.8186762978617058\n"
     ]
    }
   ],
   "source": [
    "from sklearn.naive_bayes import GaussianNB\n",
    "\n",
    "classifier= GaussianNB()\n",
    "classifier.fit(x_train,y_train)\n",
    "predicted = classifier.predict(x_test)\n",
    "pred_prob=classifier.predict_proba(x_test)\n",
    "print(metrics.accuracy_score(y_test, predicted))\n",
    "print(metrics.roc_auc_score(y_test,pred_prob,multi_class='ovr'))\n",
    "print(metrics.f1_score(y_test,predicted,average='macro'))"
   ]
  },
  {
   "cell_type": "code",
   "execution_count": 64,
   "id": "c0059127",
   "metadata": {},
   "outputs": [
    {
     "name": "stdout",
     "output_type": "stream",
     "text": [
      "0.9362582781456954\n",
      "0.9716969100022378\n",
      "0.8007596383414461\n"
     ]
    }
   ],
   "source": [
    "from sklearn.naive_bayes import BernoulliNB\n",
    "\n",
    "classifier= BernoulliNB(binarize = True)\n",
    "classifier.fit(x_train,y_train)\n",
    "predicted = classifier.predict(x_test)\n",
    "pred_prob=classifier.predict_proba(x_test)\n",
    "print(metrics.accuracy_score(y_test, predicted))\n",
    "print(metrics.roc_auc_score(y_test,pred_prob,multi_class='ovr'))\n",
    "print(metrics.f1_score(y_test,predicted,average='macro'))"
   ]
  },
  {
   "cell_type": "code",
   "execution_count": 65,
   "id": "8a8140ec",
   "metadata": {},
   "outputs": [
    {
     "name": "stdout",
     "output_type": "stream",
     "text": [
      "0.9254966887417219\n",
      "0.9400770284729489\n",
      "0.7553101863168851\n"
     ]
    }
   ],
   "source": [
    "from sklearn.ensemble import AdaBoostClassifier\n",
    "\n",
    "classifier = AdaBoostClassifier()\n",
    "classifier.fit(x_train,y_train)\n",
    "predicted = classifier.predict(x_test)\n",
    "pred_prob=classifier.predict_proba(x_test)\n",
    "print(metrics.accuracy_score(y_test, predicted))\n",
    "print(metrics.roc_auc_score(y_test,pred_prob,multi_class='ovr'))\n",
    "print(metrics.f1_score(y_test,predicted,average='macro'))"
   ]
  },
  {
   "cell_type": "code",
   "execution_count": 66,
   "id": "ed310c1f",
   "metadata": {},
   "outputs": [
    {
     "name": "stdout",
     "output_type": "stream",
     "text": [
      "0.9495033112582781\n",
      "0.9718859966838466\n",
      "0.8267404487967553\n"
     ]
    }
   ],
   "source": [
    "from sklearn.neighbors import KNeighborsClassifier\n",
    "\n",
    "classifier = KNeighborsClassifier()\n",
    "classifier.fit(x_train,y_train)\n",
    "predicted = classifier.predict(x_test)\n",
    "pred_prob=classifier.predict_proba(x_test)\n",
    "print(metrics.accuracy_score(y_test, predicted))\n",
    "print(metrics.roc_auc_score(y_test,pred_prob,multi_class='ovr'))\n",
    "print(metrics.f1_score(y_test,predicted,average='macro'))"
   ]
  },
  {
   "cell_type": "code",
   "execution_count": 67,
   "id": "c33021e4",
   "metadata": {},
   "outputs": [
    {
     "name": "stdout",
     "output_type": "stream",
     "text": [
      "0.9536423841059603\n",
      "0.9491047690148902\n",
      "0.8401581175214831\n"
     ]
    }
   ],
   "source": [
    "from sklearn.ensemble import ExtraTreesClassifier\n",
    "\n",
    "classifier = ExtraTreesClassifier()\n",
    "classifier.fit(x_train,y_train)\n",
    "predicted = classifier.predict(x_test)\n",
    "pred_prob=classifier.predict_proba(x_test)\n",
    "print(metrics.accuracy_score(y_test, predicted))\n",
    "print(metrics.roc_auc_score(y_test,pred_prob,multi_class='ovr'))\n",
    "print(metrics.f1_score(y_test,predicted,average='macro'))"
   ]
  },
  {
   "cell_type": "code",
   "execution_count": 68,
   "id": "32ba123d",
   "metadata": {},
   "outputs": [
    {
     "name": "stdout",
     "output_type": "stream",
     "text": [
      "0.9412251655629139\n",
      "0.9551301642849684\n",
      "0.8152357855082876\n"
     ]
    }
   ],
   "source": [
    "from sklearn.ensemble import BaggingClassifier\n",
    "\n",
    "classifier= BaggingClassifier()\n",
    "classifier.fit(x_train,y_train)\n",
    "predicted = classifier.predict(x_test)\n",
    "pred_prob=classifier.predict_proba(x_test)\n",
    "print(metrics.accuracy_score(y_test, predicted))\n",
    "print(metrics.roc_auc_score(y_test,pred_prob,multi_class='ovr'))\n",
    "print(metrics.f1_score(y_test,predicted,average='macro'))"
   ]
  },
  {
   "cell_type": "code",
   "execution_count": 69,
   "id": "b72f356a",
   "metadata": {},
   "outputs": [
    {
     "name": "stdout",
     "output_type": "stream",
     "text": [
      "0.9561258278145696\n",
      "0.9781770898349649\n",
      "0.8499946954603611\n"
     ]
    }
   ],
   "source": [
    "from sklearn.ensemble import GradientBoostingClassifier\n",
    "\n",
    "classifier = GradientBoostingClassifier()\n",
    "classifier.fit(x_train,y_train)\n",
    "predicted = classifier.predict(x_test)\n",
    "pred_prob=classifier.predict_proba(x_test)\n",
    "print(metrics.accuracy_score(y_test, predicted))\n",
    "print(metrics.roc_auc_score(y_test,pred_prob,multi_class='ovr'))\n",
    "print(metrics.f1_score(y_test,predicted,average='macro'))"
   ]
  },
  {
   "cell_type": "code",
   "execution_count": 70,
   "id": "a7e051f8",
   "metadata": {},
   "outputs": [
    {
     "name": "stdout",
     "output_type": "stream",
     "text": [
      "0.9577814569536424\n",
      "0.9830696631571012\n",
      "0.8597557173794055\n"
     ]
    }
   ],
   "source": [
    "import xgboost as xgb\n",
    "\n",
    "classifier= xgb.XGBClassifier()\n",
    "classifier.fit(x_train,y_train)\n",
    "predicted = classifier.predict(x_test)\n",
    "pred_prob=classifier.predict_proba(x_test)\n",
    "print(metrics.accuracy_score(y_test, predicted))\n",
    "print(metrics.roc_auc_score(y_test,pred_prob,multi_class='ovr'))\n",
    "print(metrics.f1_score(y_test,predicted,average='macro'))"
   ]
  },
  {
   "cell_type": "code",
   "execution_count": 71,
   "id": "9bffa7cd",
   "metadata": {},
   "outputs": [
    {
     "name": "stdout",
     "output_type": "stream",
     "text": [
      "0.9072847682119205\n",
      "0.8553936523753832\n",
      "0.7388052421986605\n"
     ]
    }
   ],
   "source": [
    "from sklearn.tree import DecisionTreeClassifier\n",
    "classifier = DecisionTreeClassifier()\n",
    "classifier.fit(x_train,y_train)\n",
    "predicted = classifier.predict(x_test)\n",
    "pred_prob=classifier.predict_proba(x_test)\n",
    "print(metrics.accuracy_score(y_test, predicted))\n",
    "print(metrics.roc_auc_score(y_test,pred_prob,multi_class='ovr'))\n",
    "print(metrics.f1_score(y_test,predicted,average='macro'))"
   ]
  },
  {
   "cell_type": "code",
   "execution_count": 73,
   "id": "3729940b",
   "metadata": {},
   "outputs": [
    {
     "name": "stdout",
     "output_type": "stream",
     "text": [
      "[LibSVM]0.9478476821192053\n",
      "0.98641868239506\n",
      "0.8247366744741242\n"
     ]
    }
   ],
   "source": [
    "from sklearn.svm import SVC\n",
    "\n",
    "classifier= SVC(kernel = 'linear', random_state = 10,verbose= True, probability=True)\n",
    "classifier.fit(x_train,y_train)\n",
    "predicted = classifier.predict(x_test)\n",
    "pred_prob=classifier.predict_proba(x_test)\n",
    "print(metrics.accuracy_score(y_test, predicted))\n",
    "print(metrics.roc_auc_score(y_test,pred_prob,multi_class='ovr'))\n",
    "print(metrics.f1_score(y_test,predicted,average='macro'))"
   ]
  }
 ],
 "metadata": {
  "kernelspec": {
   "display_name": "Python 3 (ipykernel)",
   "language": "python",
   "name": "python3"
  },
  "language_info": {
   "codemirror_mode": {
    "name": "ipython",
    "version": 3
   },
   "file_extension": ".py",
   "mimetype": "text/x-python",
   "name": "python",
   "nbconvert_exporter": "python",
   "pygments_lexer": "ipython3",
   "version": "3.9.12"
  }
 },
 "nbformat": 4,
 "nbformat_minor": 5
}
