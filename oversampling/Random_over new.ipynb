{
 "cells": [
  {
   "cell_type": "code",
   "execution_count": 2,
   "id": "75d45609",
   "metadata": {},
   "outputs": [],
   "source": [
    "import pandas as pd\n",
    "from collections import Counter\n",
    "from sklearn.naive_bayes import MultinomialNB\n",
    "from sklearn import metrics\n",
    "from sklearn.ensemble import RandomForestClassifier"
   ]
  },
  {
   "cell_type": "code",
   "execution_count": 3,
   "id": "2b499eaa",
   "metadata": {},
   "outputs": [],
   "source": [
    "datasets=pd.read_csv(\"E:/Users/hashim/Documents/cse 19-23/4th yr/project/dataset/gsheets/data.csv\")"
   ]
  },
  {
   "cell_type": "code",
   "execution_count": 4,
   "id": "6b52d655",
   "metadata": {},
   "outputs": [],
   "source": [
    "X1=datasets['TEXT']\n",
    "Y1=datasets['LABEL']"
   ]
  },
  {
   "cell_type": "code",
   "execution_count": 5,
   "id": "6c15dc14",
   "metadata": {},
   "outputs": [],
   "source": [
    "from sklearn.model_selection  import train_test_split\n",
    "x_train, x_test1, y_train, y_test1 = train_test_split(X1, Y1,test_size = 0.20, random_state=26)"
   ]
  },
  {
   "cell_type": "code",
   "execution_count": null,
   "id": "b778e15f",
   "metadata": {},
   "outputs": [],
   "source": [
    "x_train.shape"
   ]
  },
  {
   "cell_type": "code",
   "execution_count": null,
   "id": "a068a11b",
   "metadata": {},
   "outputs": [],
   "source": [
    "x_test1.shape"
   ]
  },
  {
   "cell_type": "code",
   "execution_count": null,
   "id": "74347ae2",
   "metadata": {},
   "outputs": [],
   "source": [
    "from imblearn.over_sampling import RandomOverSampler\n",
    "sampler=RandomOverSampler(sampling_strategy='not majority')\n",
    "x_res,y_res=sampler.fit_resample(x_train.values.reshape(-1,1),y_train)\n",
    "print(sorted(Counter(y_res).items()),y_res.shape)"
   ]
  },
  {
   "cell_type": "code",
   "execution_count": null,
   "id": "f984f314",
   "metadata": {},
   "outputs": [],
   "source": [
    "df1=pd.DataFrame(x_res,columns=['TEXT'])"
   ]
  },
  {
   "cell_type": "code",
   "execution_count": null,
   "id": "22ca45b1",
   "metadata": {},
   "outputs": [],
   "source": [
    "result=pd.concat([df1,y_res],axis=1,join=\"inner\")"
   ]
  },
  {
   "cell_type": "code",
   "execution_count": null,
   "id": "24bf6006",
   "metadata": {},
   "outputs": [],
   "source": [
    "result.to_csv(\"E:/Users/hashim/Documents/cse 19-23/4th yr/project/dataset/gsheets/oversam_new_data.csv\",index=False,mode='w')"
   ]
  },
  {
   "cell_type": "markdown",
   "id": "42e34157",
   "metadata": {},
   "source": [
    "# HandleCode"
   ]
  },
  {
   "cell_type": "code",
   "execution_count": 6,
   "id": "d0d359cc",
   "metadata": {},
   "outputs": [],
   "source": [
    "datasets=pd.read_csv(\"E:/Users/hashim/Documents/cse 19-23/4th yr/project/dataset/gsheets/oversam_new_data.csv\")"
   ]
  },
  {
   "cell_type": "code",
   "execution_count": 7,
   "id": "d4a897fb",
   "metadata": {},
   "outputs": [],
   "source": [
    "X=datasets['TEXT']\n",
    "Y=datasets['LABEL']"
   ]
  },
  {
   "cell_type": "code",
   "execution_count": 8,
   "id": "c49e48fa",
   "metadata": {},
   "outputs": [
    {
     "name": "stderr",
     "output_type": "stream",
     "text": [
      "[nltk_data] Downloading package stopwords to\n",
      "[nltk_data]     C:\\Users\\ALAMEEN\\AppData\\Roaming\\nltk_data...\n",
      "[nltk_data]   Package stopwords is already up-to-date!\n"
     ]
    }
   ],
   "source": [
    "import nltk\n",
    "nltk.download('stopwords')\n",
    "from nltk.corpus import stopwords\n",
    "stopwords.words('english')\n",
    "import re\n",
    "from sklearn.feature_extraction.text import TfidfVectorizer\n",
    "import string"
   ]
  },
  {
   "cell_type": "code",
   "execution_count": 9,
   "id": "32897319",
   "metadata": {},
   "outputs": [],
   "source": [
    "stopwords = nltk.corpus.stopwords.words('english')\n",
    "ps = nltk.WordNetLemmatizer()"
   ]
  },
  {
   "cell_type": "code",
   "execution_count": 10,
   "id": "634368e0",
   "metadata": {},
   "outputs": [],
   "source": [
    "def clean_text(text):\n",
    "    no_punctuation = ''.join([word.lower() for word in text if word not in string.punctuation])\n",
    "    tokens = re.split('\\W+', text)\n",
    "    stems = [ps.lemmatize(word) for word in tokens if word not in stopwords] # Remove Stopwords\n",
    "    return stems"
   ]
  },
  {
   "cell_type": "code",
   "execution_count": 11,
   "id": "680d8196",
   "metadata": {},
   "outputs": [],
   "source": [
    "from sklearn.feature_extraction.text import TfidfVectorizer\n",
    "vect = TfidfVectorizer(analyzer=clean_text)\n",
    "vector=vect.fit_transform(X)\n",
    "x_train=pd.DataFrame(vector.toarray())"
   ]
  },
  {
   "cell_type": "code",
   "execution_count": null,
   "id": "ad7437bf",
   "metadata": {},
   "outputs": [],
   "source": [
    "x_train.head"
   ]
  },
  {
   "cell_type": "code",
   "execution_count": 12,
   "id": "cb847b8f",
   "metadata": {},
   "outputs": [],
   "source": [
    "\n",
    "vector1=vect.transform(x_test1)\n",
    "x_test=pd.DataFrame(vector1.toarray())"
   ]
  },
  {
   "cell_type": "code",
   "execution_count": null,
   "id": "1a11d7a4",
   "metadata": {},
   "outputs": [],
   "source": [
    "x_test.head"
   ]
  },
  {
   "cell_type": "code",
   "execution_count": 13,
   "id": "4a3f4e20",
   "metadata": {},
   "outputs": [
    {
     "data": {
      "text/plain": [
       "0.945364238410596"
      ]
     },
     "execution_count": 13,
     "metadata": {},
     "output_type": "execute_result"
    }
   ],
   "source": [
    "rf=RandomForestClassifier()\n",
    "rus_model=rf.fit(x_train,Y)\n",
    "y_rus_class=rf.predict(x_test)\n",
    "metrics.accuracy_score(y_test1,y_rus_class)"
   ]
  },
  {
   "cell_type": "code",
   "execution_count": null,
   "id": "417e8ce4",
   "metadata": {},
   "outputs": [],
   "source": [
    "from sklearn.naive_bayes import MultinomialNB\n",
    "mnb = MultinomialNB()\n",
    "\n",
    "# fit\n",
    "naive_model = mnb.fit(x_train,Y)\n",
    "\n",
    "# predict class\n",
    "y_pred_class = mnb.predict(x_test)\n",
    "\n",
    "# printing the overall accuracy\n",
    "from sklearn import metrics\n",
    "metrics.accuracy_score(y_test1, y_pred_class)"
   ]
  },
  {
   "cell_type": "code",
   "execution_count": null,
   "id": "f83f022d",
   "metadata": {},
   "outputs": [],
   "source": [
    "from sklearn.naive_bayes import MultinomialNB\n",
    "\n",
    "model = MultinomialNB()\n",
    "model.fit(x_train,Y)\n",
    "\n",
    "predictions = model.predict(x_test)\n",
    "print(\"Multinomial NB = \",metrics.accuracy_score(y_test1, predictions))"
   ]
  },
  {
   "cell_type": "code",
   "execution_count": null,
   "id": "ccf03743",
   "metadata": {},
   "outputs": [],
   "source": [
    "from sklearn.naive_bayes import GaussianNB\n",
    "\n",
    "model = GaussianNB()\n",
    "model.fit(x_train,Y)\n",
    "\n",
    "predictions = model.predict(x_test)\n",
    "print(\"Gaussian NB = \",metrics.accuracy_score(y_test1, predictions))"
   ]
  },
  {
   "cell_type": "code",
   "execution_count": null,
   "id": "226b61fe",
   "metadata": {},
   "outputs": [],
   "source": [
    "from sklearn.ensemble import AdaBoostClassifier\n",
    "\n",
    "model = AdaBoostClassifier()\n",
    "model.fit(x_train,Y)\n",
    "\n",
    "predictions = model.predict(x_test)\n",
    "print(\"AdaBoost = \",metrics.accuracy_score(y_test1, predictions))"
   ]
  },
  {
   "cell_type": "code",
   "execution_count": null,
   "id": "d3194e65",
   "metadata": {},
   "outputs": [],
   "source": [
    "from sklearn.naive_bayes import BernoulliNB\n",
    "\n",
    "model = BernoulliNB(binarize = True)\n",
    "model.fit(x_train,Y)\n",
    "\n",
    "predictions = model.predict(x_test)\n",
    "print(\"Bernoulli NB = \",metrics.accuracy_score(y_test1, predictions))"
   ]
  },
  {
   "cell_type": "code",
   "execution_count": null,
   "id": "33b88ff6",
   "metadata": {},
   "outputs": [],
   "source": [
    "from sklearn.neighbors import KNeighborsClassifier\n",
    "\n",
    "model = KNeighborsClassifier()\n",
    "model.fit(x_train,Y)\n",
    "\n",
    "predictions = model.predict(x_test)\n",
    "print(\"KNN = \",metrics.accuracy_score(y_test1, predictions))"
   ]
  },
  {
   "cell_type": "code",
   "execution_count": null,
   "id": "a66abf4f",
   "metadata": {},
   "outputs": [],
   "source": [
    "from sklearn.ensemble import ExtraTreesClassifier\n",
    "\n",
    "model = ExtraTreesClassifier()\n",
    "model.fit(x_train,Y)\n",
    "\n",
    "predictions = model.predict(x_test)\n",
    "print(\"ExtraTrees = \",metrics.accuracy_score(y_test1, predictions))"
   ]
  },
  {
   "cell_type": "code",
   "execution_count": null,
   "id": "e68c4ff8",
   "metadata": {},
   "outputs": [],
   "source": [
    "from sklearn.ensemble import BaggingClassifier\n",
    "\n",
    "model = BaggingClassifier()\n",
    "model.fit(x_train,Y)\n",
    "\n",
    "predictions = model.predict(x_test)\n",
    "print(\"Bagging Classifier = \",metrics.accuracy_score(y_test1, predictions))"
   ]
  },
  {
   "cell_type": "code",
   "execution_count": null,
   "id": "6d848b61",
   "metadata": {},
   "outputs": [],
   "source": [
    "from sklearn.tree import DecisionTreeClassifier\n",
    "\n",
    "model = DecisionTreeClassifier()\n",
    "model.fit(x_train,Y)\n",
    "\n",
    "predictions = model.predict(x_test)\n",
    "print(\"Decision Tree= \",metrics.accuracy_score(y_test1, predictions))"
   ]
  },
  {
   "cell_type": "code",
   "execution_count": null,
   "id": "b53c2cb9",
   "metadata": {},
   "outputs": [],
   "source": [
    "from sklearn.ensemble import GradientBoostingClassifier\n",
    "\n",
    "classifier= GradientBoostingClassifier()\n",
    "\n",
    "classifier.fit(x_train,Y)\n",
    "predicted = classifier.predict(x_test)\n",
    "pred_prob=classifier.predict_proba(x_test)\n",
    "print(metrics.accuracy_score(y_test1, predicted))\n",
    "print(metrics.roc_auc_score(y_test1,pred_prob,multi_class='ovr'))\n",
    "print(metrics.f1_score(y_test1,predicted,average='micro'))"
   ]
  },
  {
   "cell_type": "code",
   "execution_count": 15,
   "id": "160b070b",
   "metadata": {},
   "outputs": [
    {
     "name": "stdout",
     "output_type": "stream",
     "text": [
      "0.9445364238410596\n",
      "0.957919688030715\n",
      "0.9445364238410596\n"
     ]
    }
   ],
   "source": [
    "import xgboost as xgb\n",
    "classifier= xgb.XGBClassifier()\n",
    "\n",
    "\n",
    "classifier.fit(x_train,Y)\n",
    "predicted = classifier.predict(x_test)\n",
    "pred_prob=classifier.predict_proba(x_test)\n",
    "print(metrics.accuracy_score(y_test1, predicted))\n",
    "print(metrics.roc_auc_score(y_test1,pred_prob,multi_class='ovr'))\n",
    "print(metrics.f1_score(y_test1,predicted,average='micro'))"
   ]
  },
  {
   "cell_type": "code",
   "execution_count": null,
   "id": "041629d1",
   "metadata": {},
   "outputs": [
    {
     "name": "stdout",
     "output_type": "stream",
     "text": [
      "[LibSVM]"
     ]
    }
   ],
   "source": [
    "from sklearn.svm import SVC\n",
    "\n",
    "classifier= SVC(kernel = 'linear', random_state = 10,verbose= True, probability=True)\n",
    "\n",
    "classifier.fit(x_train,Y)\n",
    "predicted = classifier.predict(x_test)\n",
    "pred_prob=classifier.predict_proba(x_test)\n",
    "print(metrics.accuracy_score(y_test1, predicted))\n",
    "print(metrics.roc_auc_score(y_test1,pred_prob,multi_class='ovr'))\n",
    "print(metrics.f1_score(y_test1,predicted,average='micro'))"
   ]
  }
 ],
 "metadata": {
  "kernelspec": {
   "display_name": "Python 3 (ipykernel)",
   "language": "python",
   "name": "python3"
  },
  "language_info": {
   "codemirror_mode": {
    "name": "ipython",
    "version": 3
   },
   "file_extension": ".py",
   "mimetype": "text/x-python",
   "name": "python",
   "nbconvert_exporter": "python",
   "pygments_lexer": "ipython3",
   "version": "3.9.12"
  }
 },
 "nbformat": 4,
 "nbformat_minor": 5
}
