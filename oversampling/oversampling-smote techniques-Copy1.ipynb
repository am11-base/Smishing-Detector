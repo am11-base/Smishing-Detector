{
 "cells": [
  {
   "cell_type": "code",
   "execution_count": 1,
   "id": "8580eb9e",
   "metadata": {},
   "outputs": [],
   "source": [
    "import pandas as pd\n",
    "from collections import Counter\n",
    "from sklearn.naive_bayes import MultinomialNB\n",
    "from sklearn import metrics\n",
    "from sklearn.ensemble import RandomForestClassifier\n",
    "from sklearn.model_selection  import train_test_split"
   ]
  },
  {
   "cell_type": "code",
   "execution_count": 2,
   "id": "6aa38574",
   "metadata": {},
   "outputs": [],
   "source": [
    "datasets=pd.read_csv(\"E:/Users/hashim/Documents/cse 19-23/4th yr/project/dataset/gsheets/data.csv\")\n"
   ]
  },
  {
   "cell_type": "code",
   "execution_count": 3,
   "id": "8444964a",
   "metadata": {},
   "outputs": [
    {
     "name": "stdout",
     "output_type": "stream",
     "text": [
      "[(0, 4846), (1, 699), (2, 495)]\n"
     ]
    }
   ],
   "source": [
    "print(sorted(Counter(datasets['LABEL']).items()))"
   ]
  },
  {
   "cell_type": "code",
   "execution_count": 19,
   "id": "f7b642b3",
   "metadata": {},
   "outputs": [],
   "source": [
    "X=datasets['TEXT']\n",
    "Y1=datasets['LABEL']"
   ]
  },
  {
   "cell_type": "code",
   "execution_count": 27,
   "id": "cbeb6677",
   "metadata": {},
   "outputs": [
    {
     "name": "stdout",
     "output_type": "stream",
     "text": [
      "0    Your opinion about me? 1. Over 2. Jada 3. Kusr...\n",
      "1    What's up? Do you want me to come online? If y...\n",
      "2                         So u workin overtime nigpun?\n",
      "3    Also sir, i sent you an email about how to log...\n",
      "4    Please Stay At Home. To encourage the notion o...\n",
      "Name: TEXT, dtype: object\n"
     ]
    }
   ],
   "source": [
    "print(X.head())"
   ]
  },
  {
   "cell_type": "code",
   "execution_count": 20,
   "id": "bfdd3b95",
   "metadata": {},
   "outputs": [],
   "source": [
    "from sklearn.feature_extraction.text import TfidfVectorizer\n",
    "vect = TfidfVectorizer()"
   ]
  },
  {
   "cell_type": "code",
   "execution_count": 22,
   "id": "70f3863b",
   "metadata": {},
   "outputs": [
    {
     "data": {
      "text/plain": [
       "TfidfVectorizer()"
      ]
     },
     "execution_count": 22,
     "metadata": {},
     "output_type": "execute_result"
    }
   ],
   "source": [
    "vect.fit(X)\n",
    "#vect.vocabulary_"
   ]
  },
  {
   "cell_type": "code",
   "execution_count": 23,
   "id": "d5409dc3",
   "metadata": {},
   "outputs": [
    {
     "data": {
      "text/plain": [
       "TfidfVectorizer(stop_words='english')"
      ]
     },
     "execution_count": 23,
     "metadata": {},
     "output_type": "execute_result"
    }
   ],
   "source": [
    "vect = TfidfVectorizer(stop_words='english')\n",
    "vect.fit(X)"
   ]
  },
  {
   "cell_type": "code",
   "execution_count": 24,
   "id": "a719faf8",
   "metadata": {},
   "outputs": [],
   "source": [
    "x_transformed = vect.transform(X)\n"
   ]
  },
  {
   "cell_type": "code",
   "execution_count": 25,
   "id": "605ae83f",
   "metadata": {},
   "outputs": [],
   "source": [
    "tfidf_vector_df = pd.DataFrame(x_transformed.toarray())"
   ]
  },
  {
   "cell_type": "code",
   "execution_count": 26,
   "id": "773b4e2c",
   "metadata": {},
   "outputs": [],
   "source": [
    "X1= tfidf_vector_df"
   ]
  },
  {
   "cell_type": "code",
   "execution_count": 27,
   "id": "4b32eb62",
   "metadata": {},
   "outputs": [
    {
     "data": {
      "text/plain": [
       "<bound method NDFrame.head of       0     1     2     3     4     5     6     7     8     9     ...  9517  \\\n",
       "0      0.0   0.0   0.0   0.0   0.0   0.0   0.0   0.0   0.0   0.0  ...   0.0   \n",
       "1      0.0   0.0   0.0   0.0   0.0   0.0   0.0   0.0   0.0   0.0  ...   0.0   \n",
       "2      0.0   0.0   0.0   0.0   0.0   0.0   0.0   0.0   0.0   0.0  ...   0.0   \n",
       "3      0.0   0.0   0.0   0.0   0.0   0.0   0.0   0.0   0.0   0.0  ...   0.0   \n",
       "4      0.0   0.0   0.0   0.0   0.0   0.0   0.0   0.0   0.0   0.0  ...   0.0   \n",
       "...    ...   ...   ...   ...   ...   ...   ...   ...   ...   ...  ...   ...   \n",
       "6035   0.0   0.0   0.0   0.0   0.0   0.0   0.0   0.0   0.0   0.0  ...   0.0   \n",
       "6036   0.0   0.0   0.0   0.0   0.0   0.0   0.0   0.0   0.0   0.0  ...   0.0   \n",
       "6037   0.0   0.0   0.0   0.0   0.0   0.0   0.0   0.0   0.0   0.0  ...   0.0   \n",
       "6038   0.0   0.0   0.0   0.0   0.0   0.0   0.0   0.0   0.0   0.0  ...   0.0   \n",
       "6039   0.0   0.0   0.0   0.0   0.0   0.0   0.0   0.0   0.0   0.0  ...   0.0   \n",
       "\n",
       "      9518  9519  9520  9521  9522  9523  9524  9525  9526  \n",
       "0      0.0   0.0   0.0   0.0   0.0   0.0   0.0   0.0   0.0  \n",
       "1      0.0   0.0   0.0   0.0   0.0   0.0   0.0   0.0   0.0  \n",
       "2      0.0   0.0   0.0   0.0   0.0   0.0   0.0   0.0   0.0  \n",
       "3      0.0   0.0   0.0   0.0   0.0   0.0   0.0   0.0   0.0  \n",
       "4      0.0   0.0   0.0   0.0   0.0   0.0   0.0   0.0   0.0  \n",
       "...    ...   ...   ...   ...   ...   ...   ...   ...   ...  \n",
       "6035   0.0   0.0   0.0   0.0   0.0   0.0   0.0   0.0   0.0  \n",
       "6036   0.0   0.0   0.0   0.0   0.0   0.0   0.0   0.0   0.0  \n",
       "6037   0.0   0.0   0.0   0.0   0.0   0.0   0.0   0.0   0.0  \n",
       "6038   0.0   0.0   0.0   0.0   0.0   0.0   0.0   0.0   0.0  \n",
       "6039   0.0   0.0   0.0   0.0   0.0   0.0   0.0   0.0   0.0  \n",
       "\n",
       "[6040 rows x 9527 columns]>"
      ]
     },
     "execution_count": 27,
     "metadata": {},
     "output_type": "execute_result"
    }
   ],
   "source": [
    "X1.head"
   ]
  },
  {
   "cell_type": "code",
   "execution_count": 13,
   "id": "f6dff9f4",
   "metadata": {},
   "outputs": [],
   "source": [
    "from imblearn.combine import SMOTEENN, SMOTETomek\n",
    "from imblearn.over_sampling import BorderlineSMOTE, SMOTE, ADASYN, SMOTENC, RandomOverSampler"
   ]
  },
  {
   "cell_type": "code",
   "execution_count": 41,
   "id": "ebd142fb",
   "metadata": {},
   "outputs": [],
   "source": [
    "sm = SMOTE(random_state=777)\n",
    "X, Y = sm.fit_resample(X1, Y1)"
   ]
  },
  {
   "cell_type": "code",
   "execution_count": 35,
   "id": "65ca37e8",
   "metadata": {},
   "outputs": [],
   "source": [
    "asm = ADASYN(random_state=777)\n",
    "X, Y = asm.fit_resample(X1, Y1)"
   ]
  },
  {
   "cell_type": "code",
   "execution_count": 36,
   "id": "f1c65232",
   "metadata": {},
   "outputs": [],
   "source": [
    "bsm = BorderlineSMOTE()\n",
    "X, Y = bsm.fit_resample(X1,Y1)"
   ]
  },
  {
   "cell_type": "code",
   "execution_count": 42,
   "id": "7f12c7bc",
   "metadata": {},
   "outputs": [],
   "source": [
    "from sklearn.model_selection  import train_test_split\n",
    "x_train, x_test, y_train, y_test = train_test_split(X, Y,test_size = 0.20, random_state=26)"
   ]
  },
  {
   "cell_type": "code",
   "execution_count": 17,
   "id": "3b1596f4",
   "metadata": {},
   "outputs": [],
   "source": [
    "from sklearn.linear_model import LogisticRegression\n",
    "from sklearn import metrics\n",
    "from sklearn.naive_bayes import MultinomialNB\n",
    "from sklearn.ensemble import RandomForestClassifier"
   ]
  },
  {
   "cell_type": "code",
   "execution_count": null,
   "id": "18dba2b2",
   "metadata": {},
   "outputs": [],
   "source": []
  },
  {
   "cell_type": "code",
   "execution_count": 43,
   "id": "f52cd68c",
   "metadata": {},
   "outputs": [
    {
     "name": "stderr",
     "output_type": "stream",
     "text": [
      "\n",
      "KeyboardInterrupt\n",
      "\n"
     ]
    }
   ],
   "source": [
    "\n",
    "classifier = LogisticRegression(solver='lbfgs', max_iter=1000)\n",
    "classifier.fit(x_train,y_train)\n",
    "predicted = classifier.predict(x_test)\n",
    "print(\"Logistic Regression Accuracy:\",metrics.accuracy_score(y_test, predicted))\n",
    "print(\"Logistic Regression Precision:\",metrics.precision_score(y_test, predicted,average='micro'))\n",
    "print(\"Logistic Regression Recall:\",metrics.recall_score(y_test, predicted,average='micro'))"
   ]
  },
  {
   "cell_type": "code",
   "execution_count": 44,
   "id": "55a9cf11",
   "metadata": {},
   "outputs": [
    {
     "data": {
      "text/plain": [
       "0.9573590096286108"
      ]
     },
     "execution_count": 44,
     "metadata": {},
     "output_type": "execute_result"
    }
   ],
   "source": [
    "mnb = MultinomialNB()\n",
    "\n",
    "# fit\n",
    "naive_model = mnb.fit(x_train,y_train)\n",
    "\n",
    "# predict class\n",
    "y_pred_class = mnb.predict(x_test)\n",
    "\n",
    "# printing the overall accuracy\n",
    "from sklearn import metrics\n",
    "metrics.accuracy_score(y_test, y_pred_class)"
   ]
  },
  {
   "cell_type": "code",
   "execution_count": 45,
   "id": "89b92610",
   "metadata": {},
   "outputs": [
    {
     "data": {
      "text/plain": [
       "0.9838376891334251"
      ]
     },
     "execution_count": 45,
     "metadata": {},
     "output_type": "execute_result"
    }
   ],
   "source": [
    "rf=RandomForestClassifier()\n",
    "rus_model=rf.fit(x_train,y_train)\n",
    "y_rus_class=rf.predict(x_test)\n",
    "metrics.accuracy_score(y_test,y_rus_class)"
   ]
  },
  {
   "cell_type": "code",
   "execution_count": 61,
   "id": "a2bf8608",
   "metadata": {},
   "outputs": [],
   "source": [
    "#X_train, X_test, y_train, y_test = train_test_split(X, Y, test_size=0.2, random_state=40)"
   ]
  },
  {
   "cell_type": "code",
   "execution_count": 72,
   "id": "9becc4e4",
   "metadata": {},
   "outputs": [
    {
     "name": "stdout",
     "output_type": "stream",
     "text": [
      "0       Your opinion about me? 1. Over 2. Jada 3. Kusr...\n",
      "1       What's up? Do you want me to come online? If y...\n",
      "2                            So u workin overtime nigpun?\n",
      "3       Also sir, i sent you an email about how to log...\n",
      "4       Please Stay At Home. To encourage the notion o...\n",
      "                              ...                        \n",
      "6035    Dear Customer,We have not received the schedul...\n",
      "6036    Dear Customer Your DEBIT(ATM) Card BLOCKED Due...\n",
      "6037    HDFC Ltd has requested payment of Rs. 8218. Li...\n",
      "6038    Recharge Airtel No.using HDFC Bank A/C.Add Pre...\n",
      "6039    Attention MANJU, Important message from HDFC B...\n",
      "Name: TEXT, Length: 6040, dtype: object\n"
     ]
    }
   ],
   "source": [
    "print(X)"
   ]
  },
  {
   "cell_type": "code",
   "execution_count": 108,
   "id": "a5501840",
   "metadata": {},
   "outputs": [
    {
     "name": "stdout",
     "output_type": "stream",
     "text": [
      "  (0, 8139)\t0.31136341612244967\n",
      "  (0, 7946)\t0.3199443360541775\n",
      "  (0, 7703)\t0.2810435191815764\n",
      "  (0, 7697)\t0.2847086442401441\n",
      "  (0, 7145)\t0.1744244316523542\n",
      "  (0, 6570)\t0.1961634086614996\n",
      "  (0, 6220)\t0.28876025202132666\n",
      "  (0, 5529)\t0.3310070659200576\n",
      "  (0, 5332)\t0.2776975221554465\n",
      "  (0, 5039)\t0.3199443360541775\n",
      "  (0, 4799)\t0.3199443360541775\n",
      "  (0, 2345)\t0.31136341612244967\n",
      "  (1, 9118)\t0.3938559864389176\n",
      "  (1, 8315)\t0.5074478874717002\n",
      "  (1, 6193)\t0.5519847706963359\n",
      "  (1, 3834)\t0.3626595473113289\n",
      "  (1, 2566)\t0.3887993944311018\n",
      "  (2, 9345)\t0.5134533002487869\n",
      "  (2, 6296)\t0.6067807299443635\n",
      "  (2, 5993)\t0.6067807299443635\n",
      "  (3, 9190)\t0.25391765970645\n",
      "  (3, 8914)\t0.3418470657852267\n",
      "  (3, 8484)\t0.23974911685074168\n",
      "  (3, 7719)\t0.2452355528528717\n",
      "  (3, 7538)\t0.22366433181995168\n",
      "  :\t:\n",
      "  (6038, 5793)\t0.41049887973628085\n",
      "  (6038, 5706)\t0.30230613437930276\n",
      "  (6038, 5668)\t0.20153742291953516\n",
      "  (6038, 4287)\t0.29614407091538447\n",
      "  (6038, 3615)\t0.13225980656248543\n",
      "  (6038, 1745)\t0.09450699105343835\n",
      "  (6038, 1348)\t0.2467276889130826\n",
      "  (6038, 1258)\t0.2387376225895001\n",
      "  (6038, 1237)\t0.13683295991209363\n",
      "  (6038, 1204)\t0.10835016031127416\n",
      "  (6038, 935)\t0.429835372637884\n",
      "  (6038, 845)\t0.14327845754596133\n",
      "  (6039, 9397)\t0.18084305852600988\n",
      "  (6039, 5605)\t0.18948153073460489\n",
      "  (6039, 5474)\t0.3405460711093301\n",
      "  (6039, 4637)\t0.3405460711093301\n",
      "  (6039, 4603)\t0.230303557676445\n",
      "  (6039, 4293)\t0.3405460711093301\n",
      "  (6039, 4287)\t0.23462633894842103\n",
      "  (6039, 3008)\t0.23462633894842103\n",
      "  (6039, 2484)\t0.22207728279182556\n",
      "  (6039, 1745)\t0.22462542553048462\n",
      "  (6039, 1632)\t0.3143568004707627\n",
      "  (6039, 1264)\t0.3252263298645305\n",
      "  (6039, 533)\t0.3405460711093301\n"
     ]
    }
   ],
   "source": [
    "print(x_transformed)"
   ]
  },
  {
   "cell_type": "code",
   "execution_count": 91,
   "id": "84904dfd",
   "metadata": {},
   "outputs": [
    {
     "data": {
      "text/plain": [
       "scipy.sparse.csr.csr_matrix"
      ]
     },
     "execution_count": 91,
     "metadata": {},
     "output_type": "execute_result"
    }
   ],
   "source": [
    "#type(x_transformed)"
   ]
  },
  {
   "cell_type": "code",
   "execution_count": 104,
   "id": "09a4feb0",
   "metadata": {},
   "outputs": [],
   "source": [
    "#x_transformed=x_transformed.todense()"
   ]
  },
  {
   "cell_type": "code",
   "execution_count": 105,
   "id": "a27a0f36",
   "metadata": {},
   "outputs": [
    {
     "name": "stdout",
     "output_type": "stream",
     "text": [
      "[[0. 0. 0. ... 0. 0. 0.]\n",
      " [0. 0. 0. ... 0. 0. 0.]\n",
      " [0. 0. 0. ... 0. 0. 0.]\n",
      " ...\n",
      " [0. 0. 0. ... 0. 0. 0.]\n",
      " [0. 0. 0. ... 0. 0. 0.]\n",
      " [0. 0. 0. ... 0. 0. 0.]]\n"
     ]
    }
   ],
   "source": [
    "#print(x_transformed)"
   ]
  },
  {
   "cell_type": "code",
   "execution_count": 119,
   "id": "ee757b75",
   "metadata": {},
   "outputs": [],
   "source": [
    "from sklearn.feature_extraction.text import CountVectorizer\n",
    "vectorizer = CountVectorizer()"
   ]
  },
  {
   "cell_type": "code",
   "execution_count": 120,
   "id": "72601361",
   "metadata": {},
   "outputs": [
    {
     "data": {
      "text/plain": [
       "CountVectorizer()"
      ]
     },
     "execution_count": 120,
     "metadata": {},
     "output_type": "execute_result"
    }
   ],
   "source": [
    "vectorizer.fit(X)"
   ]
  },
  {
   "cell_type": "code",
   "execution_count": 124,
   "id": "24239f2e",
   "metadata": {},
   "outputs": [],
   "source": [
    "x_vtransformed=vectorizer.transform(X)"
   ]
  },
  {
   "cell_type": "code",
   "execution_count": 125,
   "id": "af8958af",
   "metadata": {},
   "outputs": [
    {
     "name": "stdout",
     "output_type": "stream",
     "text": [
      "  (0, 1193)\t1\n",
      "  (0, 2400)\t1\n",
      "  (0, 4926)\t1\n",
      "  (0, 5167)\t1\n",
      "  (0, 5463)\t1\n",
      "  (0, 5663)\t1\n",
      "  (0, 5684)\t1\n",
      "  (0, 6207)\t1\n",
      "  (0, 6387)\t1\n",
      "  (0, 6462)\t1\n",
      "  (0, 6750)\t1\n",
      "  (0, 7328)\t1\n",
      "  (0, 7891)\t1\n",
      "  (0, 7897)\t1\n",
      "  (0, 8149)\t1\n",
      "  (0, 8343)\t1\n",
      "  (0, 9757)\t1\n",
      "  (1, 1557)\t1\n",
      "  (1, 2281)\t1\n",
      "  (1, 2622)\t1\n",
      "  (1, 3189)\t1\n",
      "  (1, 3928)\t1\n",
      "  (1, 4686)\t1\n",
      "  (1, 5684)\t1\n",
      "  (1, 6358)\t1\n",
      "  :\t:\n",
      "  (6038, 8808)\t5\n",
      "  (6038, 8997)\t1\n",
      "  (6038, 9162)\t1\n",
      "  (6039, 533)\t1\n",
      "  (6039, 1267)\t1\n",
      "  (6039, 1664)\t1\n",
      "  (6039, 1778)\t1\n",
      "  (6039, 1845)\t1\n",
      "  (6039, 2539)\t1\n",
      "  (6039, 3069)\t1\n",
      "  (6039, 3875)\t1\n",
      "  (6039, 3971)\t1\n",
      "  (6039, 4392)\t1\n",
      "  (6039, 4398)\t1\n",
      "  (6039, 4455)\t1\n",
      "  (6039, 4721)\t1\n",
      "  (6039, 4733)\t1\n",
      "  (6039, 4757)\t1\n",
      "  (6039, 4825)\t1\n",
      "  (6039, 5607)\t1\n",
      "  (6039, 5670)\t1\n",
      "  (6039, 5742)\t1\n",
      "  (6039, 6165)\t1\n",
      "  (6039, 9662)\t1\n",
      "  (6039, 9757)\t1\n"
     ]
    }
   ],
   "source": [
    "print(x_vtransformed)"
   ]
  },
  {
   "cell_type": "code",
   "execution_count": 134,
   "id": "67e0f290",
   "metadata": {},
   "outputs": [
    {
     "data": {
      "text/plain": [
       "scipy.sparse.csr.csr_matrix"
      ]
     },
     "execution_count": 134,
     "metadata": {},
     "output_type": "execute_result"
    }
   ],
   "source": [
    "type(x_vtransformed)"
   ]
  },
  {
   "cell_type": "code",
   "execution_count": 137,
   "id": "1cffb317",
   "metadata": {},
   "outputs": [],
   "source": [
    "x_transformed=x_vtransformed.toarray()"
   ]
  },
  {
   "cell_type": "code",
   "execution_count": 127,
   "id": "7e1f54fb",
   "metadata": {},
   "outputs": [
    {
     "data": {
      "text/plain": [
       "numpy.ndarray"
      ]
     },
     "execution_count": 127,
     "metadata": {},
     "output_type": "execute_result"
    }
   ],
   "source": [
    "type(x_transformed)"
   ]
  },
  {
   "cell_type": "code",
   "execution_count": 138,
   "id": "590dcf25",
   "metadata": {},
   "outputs": [
    {
     "name": "stdout",
     "output_type": "stream",
     "text": [
      "[[0 0 0 ... 0 0 0]\n",
      " [0 0 0 ... 0 0 0]\n",
      " [0 0 0 ... 0 0 0]\n",
      " ...\n",
      " [0 0 0 ... 0 0 0]\n",
      " [0 0 0 ... 0 0 0]\n",
      " [0 0 0 ... 0 0 0]]\n"
     ]
    }
   ],
   "source": [
    "print(x_transformed)"
   ]
  },
  {
   "cell_type": "code",
   "execution_count": 139,
   "id": "c76de907",
   "metadata": {},
   "outputs": [],
   "source": [
    "x_final = pd.DataFrame(x_transformed)"
   ]
  },
  {
   "cell_type": "code",
   "execution_count": 140,
   "id": "7dbb9121",
   "metadata": {},
   "outputs": [],
   "source": [
    "x_res, y_res = smote.fit_resample(x_final,Y)"
   ]
  },
  {
   "cell_type": "code",
   "execution_count": 141,
   "id": "948d7034",
   "metadata": {},
   "outputs": [
    {
     "data": {
      "text/plain": [
       "pandas.core.frame.DataFrame"
      ]
     },
     "execution_count": 141,
     "metadata": {},
     "output_type": "execute_result"
    }
   ],
   "source": [
    "type(x_res)"
   ]
  },
  {
   "cell_type": "code",
   "execution_count": 142,
   "id": "2643e773",
   "metadata": {},
   "outputs": [
    {
     "name": "stdout",
     "output_type": "stream",
     "text": [
      "[(0, 4846), (1, 4846), (2, 4846)]\n"
     ]
    }
   ],
   "source": [
    "print(sorted(Counter(y_res).items()))"
   ]
  },
  {
   "cell_type": "code",
   "execution_count": 143,
   "id": "3a9f6246",
   "metadata": {},
   "outputs": [
    {
     "name": "stdout",
     "output_type": "stream",
     "text": [
      "       0     1     2     3     4     5     6     7     8     9     ...  9787  \\\n",
      "0         0     0     0     0     0     0     0     0     0     0  ...     0   \n",
      "1         0     0     0     0     0     0     0     0     0     0  ...     0   \n",
      "2         0     0     0     0     0     0     0     0     0     0  ...     0   \n",
      "3         0     0     0     0     0     0     0     0     0     0  ...     0   \n",
      "4         0     0     0     0     0     0     0     0     0     0  ...     0   \n",
      "...     ...   ...   ...   ...   ...   ...   ...   ...   ...   ...  ...   ...   \n",
      "14533     0     0     0     0     0     0     0     0     0     0  ...     0   \n",
      "14534     0     0     0     0     0     0     0     0     0     0  ...     0   \n",
      "14535     0     0     0     0     0     0     0     0     0     0  ...     0   \n",
      "14536     0     0     0     0     0     0     0     0     0     0  ...     0   \n",
      "14537     0     0     0     0     0     0     0     0     0     0  ...     0   \n",
      "\n",
      "       9788  9789  9790  9791  9792  9793  9794  9795  9796  \n",
      "0         0     0     0     0     0     0     0     0     0  \n",
      "1         0     0     0     0     0     0     0     0     0  \n",
      "2         0     0     0     0     0     0     0     0     0  \n",
      "3         0     0     0     0     0     0     0     0     0  \n",
      "4         0     0     0     0     0     0     0     0     0  \n",
      "...     ...   ...   ...   ...   ...   ...   ...   ...   ...  \n",
      "14533     0     0     0     0     0     0     0     0     0  \n",
      "14534     0     0     0     0     0     0     0     0     0  \n",
      "14535     0     0     0     0     0     0     0     0     0  \n",
      "14536     0     0     0     0     0     0     0     0     0  \n",
      "14537     0     0     0     0     0     0     0     0     0  \n",
      "\n",
      "[14538 rows x 9797 columns]\n"
     ]
    }
   ],
   "source": [
    "print(x_res)"
   ]
  },
  {
   "cell_type": "code",
   "execution_count": 144,
   "id": "58624c36",
   "metadata": {},
   "outputs": [],
   "source": [
    "#df1=pd.DataFrame(x_res,columns=['TEXT'])"
   ]
  },
  {
   "cell_type": "code",
   "execution_count": 145,
   "id": "3631bab1",
   "metadata": {},
   "outputs": [
    {
     "name": "stdout",
     "output_type": "stream",
     "text": [
      "   TEXT\n",
      "0   NaN\n",
      "1   NaN\n",
      "2   NaN\n",
      "3   NaN\n",
      "4   NaN\n"
     ]
    }
   ],
   "source": [
    "#print(df1.head())"
   ]
  },
  {
   "cell_type": "code",
   "execution_count": 146,
   "id": "2b594b02",
   "metadata": {},
   "outputs": [
    {
     "data": {
      "text/plain": [
       "pandas.core.series.Series"
      ]
     },
     "execution_count": 146,
     "metadata": {},
     "output_type": "execute_result"
    }
   ],
   "source": [
    "type(y_res)"
   ]
  },
  {
   "cell_type": "code",
   "execution_count": 149,
   "id": "f9398d26",
   "metadata": {},
   "outputs": [],
   "source": [
    "result=pd.concat([x_res,y_res],axis=1,join=\"inner\")"
   ]
  },
  {
   "cell_type": "code",
   "execution_count": 150,
   "id": "9f3d4bdc",
   "metadata": {},
   "outputs": [
    {
     "name": "stdout",
     "output_type": "stream",
     "text": [
      "       0  1  2  3  4  5  6  7  8  9  ...  9788  9789  9790  9791  9792  9793  \\\n",
      "0      0  0  0  0  0  0  0  0  0  0  ...     0     0     0     0     0     0   \n",
      "1      0  0  0  0  0  0  0  0  0  0  ...     0     0     0     0     0     0   \n",
      "2      0  0  0  0  0  0  0  0  0  0  ...     0     0     0     0     0     0   \n",
      "3      0  0  0  0  0  0  0  0  0  0  ...     0     0     0     0     0     0   \n",
      "4      0  0  0  0  0  0  0  0  0  0  ...     0     0     0     0     0     0   \n",
      "...   .. .. .. .. .. .. .. .. .. ..  ...   ...   ...   ...   ...   ...   ...   \n",
      "14533  0  0  0  0  0  0  0  0  0  0  ...     0     0     0     0     0     0   \n",
      "14534  0  0  0  0  0  0  0  0  0  0  ...     0     0     0     0     0     0   \n",
      "14535  0  0  0  0  0  0  0  0  0  0  ...     0     0     0     0     0     0   \n",
      "14536  0  0  0  0  0  0  0  0  0  0  ...     0     0     0     0     0     0   \n",
      "14537  0  0  0  0  0  0  0  0  0  0  ...     0     0     0     0     0     0   \n",
      "\n",
      "       9794  9795  9796  LABEL  \n",
      "0         0     0     0      0  \n",
      "1         0     0     0      0  \n",
      "2         0     0     0      0  \n",
      "3         0     0     0      0  \n",
      "4         0     0     0      1  \n",
      "...     ...   ...   ...    ...  \n",
      "14533     0     0     0      2  \n",
      "14534     0     0     0      2  \n",
      "14535     0     0     0      2  \n",
      "14536     0     0     0      2  \n",
      "14537     0     0     0      2  \n",
      "\n",
      "[14538 rows x 9798 columns]\n"
     ]
    }
   ],
   "source": [
    "print(result)"
   ]
  },
  {
   "cell_type": "code",
   "execution_count": 151,
   "id": "b839d48f",
   "metadata": {},
   "outputs": [
    {
     "ename": "AttributeError",
     "evalue": "'DataFrame' object has no attribute 'TEXT'",
     "output_type": "error",
     "traceback": [
      "\u001b[1;31m---------------------------------------------------------------------------\u001b[0m",
      "\u001b[1;31mAttributeError\u001b[0m                            Traceback (most recent call last)",
      "Input \u001b[1;32mIn [151]\u001b[0m, in \u001b[0;36m<cell line: 1>\u001b[1;34m()\u001b[0m\n\u001b[1;32m----> 1\u001b[0m X1\u001b[38;5;241m=\u001b[39m\u001b[43mresult\u001b[49m\u001b[38;5;241;43m.\u001b[39;49m\u001b[43mTEXT\u001b[49m\n\u001b[0;32m      2\u001b[0m Y1\u001b[38;5;241m=\u001b[39mresult\u001b[38;5;241m.\u001b[39mLABEL\n",
      "File \u001b[1;32mD:\\anaconda3\\lib\\site-packages\\pandas\\core\\generic.py:5575\u001b[0m, in \u001b[0;36mNDFrame.__getattr__\u001b[1;34m(self, name)\u001b[0m\n\u001b[0;32m   5568\u001b[0m \u001b[38;5;28;01mif\u001b[39;00m (\n\u001b[0;32m   5569\u001b[0m     name \u001b[38;5;129;01mnot\u001b[39;00m \u001b[38;5;129;01min\u001b[39;00m \u001b[38;5;28mself\u001b[39m\u001b[38;5;241m.\u001b[39m_internal_names_set\n\u001b[0;32m   5570\u001b[0m     \u001b[38;5;129;01mand\u001b[39;00m name \u001b[38;5;129;01mnot\u001b[39;00m \u001b[38;5;129;01min\u001b[39;00m \u001b[38;5;28mself\u001b[39m\u001b[38;5;241m.\u001b[39m_metadata\n\u001b[0;32m   5571\u001b[0m     \u001b[38;5;129;01mand\u001b[39;00m name \u001b[38;5;129;01mnot\u001b[39;00m \u001b[38;5;129;01min\u001b[39;00m \u001b[38;5;28mself\u001b[39m\u001b[38;5;241m.\u001b[39m_accessors\n\u001b[0;32m   5572\u001b[0m     \u001b[38;5;129;01mand\u001b[39;00m \u001b[38;5;28mself\u001b[39m\u001b[38;5;241m.\u001b[39m_info_axis\u001b[38;5;241m.\u001b[39m_can_hold_identifiers_and_holds_name(name)\n\u001b[0;32m   5573\u001b[0m ):\n\u001b[0;32m   5574\u001b[0m     \u001b[38;5;28;01mreturn\u001b[39;00m \u001b[38;5;28mself\u001b[39m[name]\n\u001b[1;32m-> 5575\u001b[0m \u001b[38;5;28;01mreturn\u001b[39;00m \u001b[38;5;28;43mobject\u001b[39;49m\u001b[38;5;241;43m.\u001b[39;49m\u001b[38;5;21;43m__getattribute__\u001b[39;49m\u001b[43m(\u001b[49m\u001b[38;5;28;43mself\u001b[39;49m\u001b[43m,\u001b[49m\u001b[43m \u001b[49m\u001b[43mname\u001b[49m\u001b[43m)\u001b[49m\n",
      "\u001b[1;31mAttributeError\u001b[0m: 'DataFrame' object has no attribute 'TEXT'"
     ]
    }
   ],
   "source": [
    "X1=result.TEXT\n",
    "Y1=result.LABEL\n",
    "\n"
   ]
  },
  {
   "cell_type": "code",
   "execution_count": 86,
   "id": "33bb43ee",
   "metadata": {},
   "outputs": [],
   "source": [
    "x_train1, x_test1, y_train1, y_test1 = train_test_split(X1, Y1,test_size = 0.20, random_state=26)\n"
   ]
  },
  {
   "cell_type": "code",
   "execution_count": 92,
   "id": "fd504976",
   "metadata": {},
   "outputs": [
    {
     "data": {
      "text/plain": [
       "pandas.core.series.Series"
      ]
     },
     "execution_count": 92,
     "metadata": {},
     "output_type": "execute_result"
    }
   ],
   "source": [
    "type(x_train1)"
   ]
  },
  {
   "cell_type": "code",
   "execution_count": 87,
   "id": "9ecbfb8b",
   "metadata": {},
   "outputs": [
    {
     "ename": "ValueError",
     "evalue": "setting an array element with a sequence.",
     "output_type": "error",
     "traceback": [
      "\u001b[1;31m---------------------------------------------------------------------------\u001b[0m",
      "\u001b[1;31mTypeError\u001b[0m                                 Traceback (most recent call last)",
      "\u001b[1;31mTypeError\u001b[0m: float() argument must be a string or a number, not 'csr_matrix'",
      "\nThe above exception was the direct cause of the following exception:\n",
      "\u001b[1;31mValueError\u001b[0m                                Traceback (most recent call last)",
      "Input \u001b[1;32mIn [87]\u001b[0m, in \u001b[0;36m<cell line: 4>\u001b[1;34m()\u001b[0m\n\u001b[0;32m      1\u001b[0m mnb \u001b[38;5;241m=\u001b[39m MultinomialNB()\n\u001b[0;32m      3\u001b[0m \u001b[38;5;66;03m# fit\u001b[39;00m\n\u001b[1;32m----> 4\u001b[0m naive_model1 \u001b[38;5;241m=\u001b[39m \u001b[43mmnb\u001b[49m\u001b[38;5;241;43m.\u001b[39;49m\u001b[43mfit\u001b[49m\u001b[43m(\u001b[49m\u001b[43mx_train1\u001b[49m\u001b[43m,\u001b[49m\u001b[43my_train1\u001b[49m\u001b[43m)\u001b[49m\n\u001b[0;32m      6\u001b[0m \u001b[38;5;66;03m# predict class\u001b[39;00m\n\u001b[0;32m      7\u001b[0m y_pred_class1 \u001b[38;5;241m=\u001b[39m mnb\u001b[38;5;241m.\u001b[39mpredict(x_test1)\n",
      "File \u001b[1;32mD:\\anaconda3\\lib\\site-packages\\sklearn\\naive_bayes.py:663\u001b[0m, in \u001b[0;36m_BaseDiscreteNB.fit\u001b[1;34m(self, X, y, sample_weight)\u001b[0m\n\u001b[0;32m    643\u001b[0m \u001b[38;5;28;01mdef\u001b[39;00m \u001b[38;5;21mfit\u001b[39m(\u001b[38;5;28mself\u001b[39m, X, y, sample_weight\u001b[38;5;241m=\u001b[39m\u001b[38;5;28;01mNone\u001b[39;00m):\n\u001b[0;32m    644\u001b[0m     \u001b[38;5;124;03m\"\"\"Fit Naive Bayes classifier according to X, y.\u001b[39;00m\n\u001b[0;32m    645\u001b[0m \n\u001b[0;32m    646\u001b[0m \u001b[38;5;124;03m    Parameters\u001b[39;00m\n\u001b[1;32m   (...)\u001b[0m\n\u001b[0;32m    661\u001b[0m \u001b[38;5;124;03m        Returns the instance itself.\u001b[39;00m\n\u001b[0;32m    662\u001b[0m \u001b[38;5;124;03m    \"\"\"\u001b[39;00m\n\u001b[1;32m--> 663\u001b[0m     X, y \u001b[38;5;241m=\u001b[39m \u001b[38;5;28;43mself\u001b[39;49m\u001b[38;5;241;43m.\u001b[39;49m\u001b[43m_check_X_y\u001b[49m\u001b[43m(\u001b[49m\u001b[43mX\u001b[49m\u001b[43m,\u001b[49m\u001b[43m \u001b[49m\u001b[43my\u001b[49m\u001b[43m)\u001b[49m\n\u001b[0;32m    664\u001b[0m     _, n_features \u001b[38;5;241m=\u001b[39m X\u001b[38;5;241m.\u001b[39mshape\n\u001b[0;32m    666\u001b[0m     labelbin \u001b[38;5;241m=\u001b[39m LabelBinarizer()\n",
      "File \u001b[1;32mD:\\anaconda3\\lib\\site-packages\\sklearn\\naive_bayes.py:523\u001b[0m, in \u001b[0;36m_BaseDiscreteNB._check_X_y\u001b[1;34m(self, X, y, reset)\u001b[0m\n\u001b[0;32m    521\u001b[0m \u001b[38;5;28;01mdef\u001b[39;00m \u001b[38;5;21m_check_X_y\u001b[39m(\u001b[38;5;28mself\u001b[39m, X, y, reset\u001b[38;5;241m=\u001b[39m\u001b[38;5;28;01mTrue\u001b[39;00m):\n\u001b[0;32m    522\u001b[0m     \u001b[38;5;124;03m\"\"\"Validate X and y in fit methods.\"\"\"\u001b[39;00m\n\u001b[1;32m--> 523\u001b[0m     \u001b[38;5;28;01mreturn\u001b[39;00m \u001b[38;5;28;43mself\u001b[39;49m\u001b[38;5;241;43m.\u001b[39;49m\u001b[43m_validate_data\u001b[49m\u001b[43m(\u001b[49m\u001b[43mX\u001b[49m\u001b[43m,\u001b[49m\u001b[43m \u001b[49m\u001b[43my\u001b[49m\u001b[43m,\u001b[49m\u001b[43m \u001b[49m\u001b[43maccept_sparse\u001b[49m\u001b[38;5;241;43m=\u001b[39;49m\u001b[38;5;124;43m\"\u001b[39;49m\u001b[38;5;124;43mcsr\u001b[39;49m\u001b[38;5;124;43m\"\u001b[39;49m\u001b[43m,\u001b[49m\u001b[43m \u001b[49m\u001b[43mreset\u001b[49m\u001b[38;5;241;43m=\u001b[39;49m\u001b[43mreset\u001b[49m\u001b[43m)\u001b[49m\n",
      "File \u001b[1;32mD:\\anaconda3\\lib\\site-packages\\sklearn\\base.py:581\u001b[0m, in \u001b[0;36mBaseEstimator._validate_data\u001b[1;34m(self, X, y, reset, validate_separately, **check_params)\u001b[0m\n\u001b[0;32m    579\u001b[0m         y \u001b[38;5;241m=\u001b[39m check_array(y, \u001b[38;5;241m*\u001b[39m\u001b[38;5;241m*\u001b[39mcheck_y_params)\n\u001b[0;32m    580\u001b[0m     \u001b[38;5;28;01melse\u001b[39;00m:\n\u001b[1;32m--> 581\u001b[0m         X, y \u001b[38;5;241m=\u001b[39m check_X_y(X, y, \u001b[38;5;241m*\u001b[39m\u001b[38;5;241m*\u001b[39mcheck_params)\n\u001b[0;32m    582\u001b[0m     out \u001b[38;5;241m=\u001b[39m X, y\n\u001b[0;32m    584\u001b[0m \u001b[38;5;28;01mif\u001b[39;00m \u001b[38;5;129;01mnot\u001b[39;00m no_val_X \u001b[38;5;129;01mand\u001b[39;00m check_params\u001b[38;5;241m.\u001b[39mget(\u001b[38;5;124m\"\u001b[39m\u001b[38;5;124mensure_2d\u001b[39m\u001b[38;5;124m\"\u001b[39m, \u001b[38;5;28;01mTrue\u001b[39;00m):\n",
      "File \u001b[1;32mD:\\anaconda3\\lib\\site-packages\\sklearn\\utils\\validation.py:964\u001b[0m, in \u001b[0;36mcheck_X_y\u001b[1;34m(X, y, accept_sparse, accept_large_sparse, dtype, order, copy, force_all_finite, ensure_2d, allow_nd, multi_output, ensure_min_samples, ensure_min_features, y_numeric, estimator)\u001b[0m\n\u001b[0;32m    961\u001b[0m \u001b[38;5;28;01mif\u001b[39;00m y \u001b[38;5;129;01mis\u001b[39;00m \u001b[38;5;28;01mNone\u001b[39;00m:\n\u001b[0;32m    962\u001b[0m     \u001b[38;5;28;01mraise\u001b[39;00m \u001b[38;5;167;01mValueError\u001b[39;00m(\u001b[38;5;124m\"\u001b[39m\u001b[38;5;124my cannot be None\u001b[39m\u001b[38;5;124m\"\u001b[39m)\n\u001b[1;32m--> 964\u001b[0m X \u001b[38;5;241m=\u001b[39m \u001b[43mcheck_array\u001b[49m\u001b[43m(\u001b[49m\n\u001b[0;32m    965\u001b[0m \u001b[43m    \u001b[49m\u001b[43mX\u001b[49m\u001b[43m,\u001b[49m\n\u001b[0;32m    966\u001b[0m \u001b[43m    \u001b[49m\u001b[43maccept_sparse\u001b[49m\u001b[38;5;241;43m=\u001b[39;49m\u001b[43maccept_sparse\u001b[49m\u001b[43m,\u001b[49m\n\u001b[0;32m    967\u001b[0m \u001b[43m    \u001b[49m\u001b[43maccept_large_sparse\u001b[49m\u001b[38;5;241;43m=\u001b[39;49m\u001b[43maccept_large_sparse\u001b[49m\u001b[43m,\u001b[49m\n\u001b[0;32m    968\u001b[0m \u001b[43m    \u001b[49m\u001b[43mdtype\u001b[49m\u001b[38;5;241;43m=\u001b[39;49m\u001b[43mdtype\u001b[49m\u001b[43m,\u001b[49m\n\u001b[0;32m    969\u001b[0m \u001b[43m    \u001b[49m\u001b[43morder\u001b[49m\u001b[38;5;241;43m=\u001b[39;49m\u001b[43morder\u001b[49m\u001b[43m,\u001b[49m\n\u001b[0;32m    970\u001b[0m \u001b[43m    \u001b[49m\u001b[43mcopy\u001b[49m\u001b[38;5;241;43m=\u001b[39;49m\u001b[43mcopy\u001b[49m\u001b[43m,\u001b[49m\n\u001b[0;32m    971\u001b[0m \u001b[43m    \u001b[49m\u001b[43mforce_all_finite\u001b[49m\u001b[38;5;241;43m=\u001b[39;49m\u001b[43mforce_all_finite\u001b[49m\u001b[43m,\u001b[49m\n\u001b[0;32m    972\u001b[0m \u001b[43m    \u001b[49m\u001b[43mensure_2d\u001b[49m\u001b[38;5;241;43m=\u001b[39;49m\u001b[43mensure_2d\u001b[49m\u001b[43m,\u001b[49m\n\u001b[0;32m    973\u001b[0m \u001b[43m    \u001b[49m\u001b[43mallow_nd\u001b[49m\u001b[38;5;241;43m=\u001b[39;49m\u001b[43mallow_nd\u001b[49m\u001b[43m,\u001b[49m\n\u001b[0;32m    974\u001b[0m \u001b[43m    \u001b[49m\u001b[43mensure_min_samples\u001b[49m\u001b[38;5;241;43m=\u001b[39;49m\u001b[43mensure_min_samples\u001b[49m\u001b[43m,\u001b[49m\n\u001b[0;32m    975\u001b[0m \u001b[43m    \u001b[49m\u001b[43mensure_min_features\u001b[49m\u001b[38;5;241;43m=\u001b[39;49m\u001b[43mensure_min_features\u001b[49m\u001b[43m,\u001b[49m\n\u001b[0;32m    976\u001b[0m \u001b[43m    \u001b[49m\u001b[43mestimator\u001b[49m\u001b[38;5;241;43m=\u001b[39;49m\u001b[43mestimator\u001b[49m\u001b[43m,\u001b[49m\n\u001b[0;32m    977\u001b[0m \u001b[43m\u001b[49m\u001b[43m)\u001b[49m\n\u001b[0;32m    979\u001b[0m y \u001b[38;5;241m=\u001b[39m _check_y(y, multi_output\u001b[38;5;241m=\u001b[39mmulti_output, y_numeric\u001b[38;5;241m=\u001b[39my_numeric)\n\u001b[0;32m    981\u001b[0m check_consistent_length(X, y)\n",
      "File \u001b[1;32mD:\\anaconda3\\lib\\site-packages\\sklearn\\utils\\validation.py:746\u001b[0m, in \u001b[0;36mcheck_array\u001b[1;34m(array, accept_sparse, accept_large_sparse, dtype, order, copy, force_all_finite, ensure_2d, allow_nd, ensure_min_samples, ensure_min_features, estimator)\u001b[0m\n\u001b[0;32m    744\u001b[0m         array \u001b[38;5;241m=\u001b[39m array\u001b[38;5;241m.\u001b[39mastype(dtype, casting\u001b[38;5;241m=\u001b[39m\u001b[38;5;124m\"\u001b[39m\u001b[38;5;124munsafe\u001b[39m\u001b[38;5;124m\"\u001b[39m, copy\u001b[38;5;241m=\u001b[39m\u001b[38;5;28;01mFalse\u001b[39;00m)\n\u001b[0;32m    745\u001b[0m     \u001b[38;5;28;01melse\u001b[39;00m:\n\u001b[1;32m--> 746\u001b[0m         array \u001b[38;5;241m=\u001b[39m \u001b[43mnp\u001b[49m\u001b[38;5;241;43m.\u001b[39;49m\u001b[43masarray\u001b[49m\u001b[43m(\u001b[49m\u001b[43marray\u001b[49m\u001b[43m,\u001b[49m\u001b[43m \u001b[49m\u001b[43morder\u001b[49m\u001b[38;5;241;43m=\u001b[39;49m\u001b[43morder\u001b[49m\u001b[43m,\u001b[49m\u001b[43m \u001b[49m\u001b[43mdtype\u001b[49m\u001b[38;5;241;43m=\u001b[39;49m\u001b[43mdtype\u001b[49m\u001b[43m)\u001b[49m\n\u001b[0;32m    747\u001b[0m \u001b[38;5;28;01mexcept\u001b[39;00m ComplexWarning \u001b[38;5;28;01mas\u001b[39;00m complex_warning:\n\u001b[0;32m    748\u001b[0m     \u001b[38;5;28;01mraise\u001b[39;00m \u001b[38;5;167;01mValueError\u001b[39;00m(\n\u001b[0;32m    749\u001b[0m         \u001b[38;5;124m\"\u001b[39m\u001b[38;5;124mComplex data not supported\u001b[39m\u001b[38;5;130;01m\\n\u001b[39;00m\u001b[38;5;132;01m{}\u001b[39;00m\u001b[38;5;130;01m\\n\u001b[39;00m\u001b[38;5;124m\"\u001b[39m\u001b[38;5;241m.\u001b[39mformat(array)\n\u001b[0;32m    750\u001b[0m     ) \u001b[38;5;28;01mfrom\u001b[39;00m \u001b[38;5;21;01mcomplex_warning\u001b[39;00m\n",
      "File \u001b[1;32mD:\\anaconda3\\lib\\site-packages\\pandas\\core\\series.py:872\u001b[0m, in \u001b[0;36mSeries.__array__\u001b[1;34m(self, dtype)\u001b[0m\n\u001b[0;32m    825\u001b[0m \u001b[38;5;28;01mdef\u001b[39;00m \u001b[38;5;21m__array__\u001b[39m(\u001b[38;5;28mself\u001b[39m, dtype: npt\u001b[38;5;241m.\u001b[39mDTypeLike \u001b[38;5;241m|\u001b[39m \u001b[38;5;28;01mNone\u001b[39;00m \u001b[38;5;241m=\u001b[39m \u001b[38;5;28;01mNone\u001b[39;00m) \u001b[38;5;241m-\u001b[39m\u001b[38;5;241m>\u001b[39m np\u001b[38;5;241m.\u001b[39mndarray:\n\u001b[0;32m    826\u001b[0m     \u001b[38;5;124;03m\"\"\"\u001b[39;00m\n\u001b[0;32m    827\u001b[0m \u001b[38;5;124;03m    Return the values as a NumPy array.\u001b[39;00m\n\u001b[0;32m    828\u001b[0m \n\u001b[1;32m   (...)\u001b[0m\n\u001b[0;32m    870\u001b[0m \u001b[38;5;124;03m          dtype='datetime64[ns]')\u001b[39;00m\n\u001b[0;32m    871\u001b[0m \u001b[38;5;124;03m    \"\"\"\u001b[39;00m\n\u001b[1;32m--> 872\u001b[0m     \u001b[38;5;28;01mreturn\u001b[39;00m \u001b[43mnp\u001b[49m\u001b[38;5;241;43m.\u001b[39;49m\u001b[43masarray\u001b[49m\u001b[43m(\u001b[49m\u001b[38;5;28;43mself\u001b[39;49m\u001b[38;5;241;43m.\u001b[39;49m\u001b[43m_values\u001b[49m\u001b[43m,\u001b[49m\u001b[43m \u001b[49m\u001b[43mdtype\u001b[49m\u001b[43m)\u001b[49m\n",
      "\u001b[1;31mValueError\u001b[0m: setting an array element with a sequence."
     ]
    }
   ],
   "source": [
    "mnb = MultinomialNB()\n",
    "\n",
    "# fit\n",
    "naive_model1 = mnb.fit(x_train1,y_train1)\n",
    "\n",
    "# predict class\n",
    "y_pred_class1 = mnb.predict(x_test1)\n",
    "\n",
    "# printing the overall accuracy\n",
    "\n",
    "metrics.accuracy_score(y_test1, y_pred_class1)"
   ]
  },
  {
   "cell_type": "code",
   "execution_count": null,
   "id": "3cdef2b2",
   "metadata": {},
   "outputs": [],
   "source": []
  }
 ],
 "metadata": {
  "kernelspec": {
   "display_name": "Python 3 (ipykernel)",
   "language": "python",
   "name": "python3"
  },
  "language_info": {
   "codemirror_mode": {
    "name": "ipython",
    "version": 3
   },
   "file_extension": ".py",
   "mimetype": "text/x-python",
   "name": "python",
   "nbconvert_exporter": "python",
   "pygments_lexer": "ipython3",
   "version": "3.9.12"
  }
 },
 "nbformat": 4,
 "nbformat_minor": 5
}
