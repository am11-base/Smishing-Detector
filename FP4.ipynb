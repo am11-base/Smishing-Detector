{
 "cells": [
  {
   "cell_type": "code",
   "execution_count": 23,
   "id": "f4374d3e",
   "metadata": {},
   "outputs": [],
   "source": [
    "import warnings\n",
    "warnings.simplefilter(action='ignore', category=FutureWarning)"
   ]
  },
  {
   "cell_type": "code",
   "execution_count": 24,
   "id": "e509b818",
   "metadata": {},
   "outputs": [],
   "source": [
    "import numpy as np\n",
    "import pandas as pd\n",
    "df=pd.read_csv(\"data.csv\")"
   ]
  },
  {
   "cell_type": "code",
   "execution_count": 25,
   "id": "3210a9cf",
   "metadata": {},
   "outputs": [
    {
     "data": {
      "text/plain": [
       "(6040, 2)"
      ]
     },
     "execution_count": 25,
     "metadata": {},
     "output_type": "execute_result"
    }
   ],
   "source": [
    "df.shape"
   ]
  },
  {
   "cell_type": "code",
   "execution_count": 26,
   "id": "ab6b369b",
   "metadata": {},
   "outputs": [
    {
     "data": {
      "text/plain": [
       "0    4846\n",
       "1     699\n",
       "2     495\n",
       "Name: LABEL, dtype: int64"
      ]
     },
     "execution_count": 26,
     "metadata": {},
     "output_type": "execute_result"
    }
   ],
   "source": [
    "df['LABEL'].value_counts()"
   ]
  },
  {
   "cell_type": "code",
   "execution_count": 27,
   "id": "f8a9c07b",
   "metadata": {
    "scrolled": true
   },
   "outputs": [],
   "source": [
    "df2 = pd.DataFrame(df.query('LABEL==1')['TEXT'].astype('string')).reset_index(drop=True)\n",
    "df3 = pd.DataFrame(df.query('LABEL==2')['TEXT'].astype('string')).reset_index(drop=True)"
   ]
  },
  {
   "cell_type": "code",
   "execution_count": 28,
   "id": "d39dc252",
   "metadata": {},
   "outputs": [],
   "source": [
    "from textaugment import Wordnet\n",
    "from textaugment import EDA\n",
    "t1=Wordnet()\n",
    "t2=EDA()"
   ]
  },
  {
   "cell_type": "code",
   "execution_count": 29,
   "id": "ddeb9475",
   "metadata": {},
   "outputs": [],
   "source": [
    "import nlpaug.augmenter.char as nac\n",
    "import nlpaug.augmenter.word as naw\n",
    "aug=nac.OcrAug()\n",
    "aug2=nac.KeyboardAug()\n",
    "aug3=nac.RandomCharAug(action='delete')\n",
    "aug4=naw.SynonymAug(aug_src='wordnet')\n",
    "aug5=naw.AntonymAug()\n",
    "aug6=naw.RandomWordAug(action='swap')"
   ]
  },
  {
   "cell_type": "code",
   "execution_count": 30,
   "id": "a6fa185d",
   "metadata": {
    "scrolled": false
   },
   "outputs": [],
   "source": [
    "for i in df2.index:\n",
    "    new_row=[]\n",
    "    text=df2.loc[i]['TEXT']\n",
    "    for _ in range(0,6):\n",
    "        #text1=t1.augment(text)\n",
    "        #text1=t2.random_insertion(text)\n",
    "        #text1=t2.random_deletion(text)\n",
    "        text1=aug.augment(text)\n",
    "        #text1=aug2.augment(text)\n",
    "        #text1=aug3.augment(text)\n",
    "        #text1=aug4.augment(text)\n",
    "        #text1=aug5.augment(text)\n",
    "        new_row={'LABEL':1,'TEXT':' '.join(text1)}\n",
    "        df=df.append(pd.Series(new_row,index=df.columns),ignore_index=True)\n",
    "        "
   ]
  },
  {
   "cell_type": "code",
   "execution_count": 31,
   "id": "47dbd2a4",
   "metadata": {},
   "outputs": [],
   "source": [
    "for i in df3.index:\n",
    "    new_row1=[]\n",
    "    text=df3.loc[i]['TEXT']\n",
    "    for _ in range(0,8):\n",
    "        #text1=t1.augment(text)\n",
    "        #text1=t2.random_insertion(text)\n",
    "        #text1=t2.random_deletion(text)\n",
    "        text1=aug.augment(text)\n",
    "        #text1=aug2.augment(text)\n",
    "        #text1=aug3.augment(text)\n",
    "        #text1=aug4.augment(text)\n",
    "        #text1=aug5.augment(text)\n",
    "        new_row1={'LABEL':2,'TEXT':' '.join(text1)}\n",
    "        df=df.append(pd.Series(new_row1,index=df.columns),ignore_index=True)"
   ]
  },
  {
   "cell_type": "code",
   "execution_count": 32,
   "id": "45f130ae",
   "metadata": {},
   "outputs": [],
   "source": [
    "df.to_csv('data_4.csv',index=False)"
   ]
  }
 ],
 "metadata": {
  "kernelspec": {
   "display_name": "Python 3 (ipykernel)",
   "language": "python",
   "name": "python3"
  },
  "language_info": {
   "codemirror_mode": {
    "name": "ipython",
    "version": 3
   },
   "file_extension": ".py",
   "mimetype": "text/x-python",
   "name": "python",
   "nbconvert_exporter": "python",
   "pygments_lexer": "ipython3",
   "version": "3.10.6"
  }
 },
 "nbformat": 4,
 "nbformat_minor": 5
}
